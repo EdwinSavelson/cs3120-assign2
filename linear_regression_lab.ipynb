{
  "cells": [
    {
      "cell_type": "markdown",
      "metadata": {
        "id": "PdYcJf2gFJ-6"
      },
      "source": [
        "# Assign 2: Linear Regression Lab\n",
        "\n",
        "In this first lab you will fit a linear regression model. You will also dig deeper by 'training' a linear regression model manually in a few different ways.\n",
        "\n",
        "You might be wondering, \"*why all the excitement about linear regression?*\"  It so happens that regression is one of the workhorses of machine learning, and it also underlies other more complex types of models.  The advantage of regression models is that they are highly interpretable and very stable when it comes to training/fitting. In fact, linear regression models, particularly multiple linear regression with many input predictors, can mimic a lot of the power of more complex models, such as neural networks, while maintaining their computational stability and interpretability. There is a long running joke/meme about companies that claim to use \"machine learning\" actually use linear regression (and logistic regression, which we'll soon see more of). This isn't entirely a joke though since even if a company is using very powerful/complex types of models (e.g. deep neural networks), they will almost always have already tried using a linear regression model because it would be the cheaper and faster solution.  In other words, linear regression is almost always the default modeling approach, and is sometimes hard to beat!\n",
        "\n",
        "*Note that this notebook uses some content from a [course at NYU](https://cims.nyu.edu/~brenden/courses/labincp/labs/LabReg-IntroToRegression.html), which itself borrowed content from [General Assembly's Data Science](https://github.com/justmarkham/DAT4) course, which claims to have adapted materials one of the most authoratative texts on the subject, [An Introduction to Statistical Learning](http://www-bcf.usc.edu/~gareth/ISL/).*\n",
        "\n",
        "\n",
        "Next, we would typically load the Python libraries/modules that we'll use. However, these have been commented because we will load each module individually just before we use it, so that we can start to understand which modules does what."
      ]
    },
    {
      "cell_type": "code",
      "execution_count": null,
      "metadata": {
        "id": "EyXL5nbDFJ-7"
      },
      "outputs": [],
      "source": [
        "#from IPython.core.display import HTML, Markdown #, display\n",
        "#from sklearn import linear_model\n",
        "\n",
        "#import numpy.random as npr\n",
        "#import numpy as np\n",
        "#import pandas as pd\n",
        "#import seaborn as sns\n",
        "#import matplotlib.pyplot as plt\n",
        "#import scipy.stats as stats\n",
        "#import statsmodels.formula.api as smf\n",
        "#import ipywidgets as widgets"
      ]
    },
    {
      "cell_type": "markdown",
      "metadata": {
        "id": "-mMoY_ZFFJ-8"
      },
      "source": [
        "We are going to use the [statsmodels](https://www.statsmodels.org/stable/index.html) python package to fit our regression model because it has a lot of nice outputs which are helpful for interpreting regressions.  However, you could do almost all of the same using the [scikit-learn](https://scikit-learn.org/stable/) package, which is a more general package for machine learning than can perform various types of sophisticated regression, classification, clustering, and dimensionality reduction steps."
      ]
    },
    {
      "cell_type": "markdown",
      "metadata": {
        "id": "mNdKG4wuFJ-8"
      },
      "source": [
        "## Loading the dataset\n",
        "\n",
        "Before training/fitting any model we need data. Below we will load a dataset from the text, [Learning Statistics with R](https://kpu.pressbooks.pub/learningstatistics/). The dataset will help us to explore the factors that lead to a parent being grumpy after having a baby.\n",
        "\n",
        "The data is located in a public github repository but loading will be no different than if it were a local file in our computer. We simply use the link to the file and open it with the [pandas](https://pandas.pydata.org) Python module `read_csv` command.\n",
        "\n",
        "Also, let's look at the first few rows of data. Note that one row can be thought of as one *observation*."
      ]
    },
    {
      "cell_type": "code",
      "execution_count": 1,
      "metadata": {
        "id": "BFJTl5y0FJ-8",
        "outputId": "70d112c1-dcdc-4afa-b3cf-fb4908e67724",
        "colab": {
          "base_uri": "https://localhost:8080/",
          "height": 206
        }
      },
      "outputs": [
        {
          "output_type": "execute_result",
          "data": {
            "text/plain": [
              "   day  parent_sleep  baby_sleep  parent_grumpy\n",
              "0    1          7.59       10.18             56\n",
              "1    2          7.91       11.66             60\n",
              "2    3          5.14        7.92             82\n",
              "3    4          7.71        9.61             55\n",
              "4    5          6.68        9.75             67"
            ],
            "text/html": [
              "\n",
              "  <div id=\"df-56dae529-285c-4ab3-b87e-5d297950cd50\" class=\"colab-df-container\">\n",
              "    <div>\n",
              "<style scoped>\n",
              "    .dataframe tbody tr th:only-of-type {\n",
              "        vertical-align: middle;\n",
              "    }\n",
              "\n",
              "    .dataframe tbody tr th {\n",
              "        vertical-align: top;\n",
              "    }\n",
              "\n",
              "    .dataframe thead th {\n",
              "        text-align: right;\n",
              "    }\n",
              "</style>\n",
              "<table border=\"1\" class=\"dataframe\">\n",
              "  <thead>\n",
              "    <tr style=\"text-align: right;\">\n",
              "      <th></th>\n",
              "      <th>day</th>\n",
              "      <th>parent_sleep</th>\n",
              "      <th>baby_sleep</th>\n",
              "      <th>parent_grumpy</th>\n",
              "    </tr>\n",
              "  </thead>\n",
              "  <tbody>\n",
              "    <tr>\n",
              "      <th>0</th>\n",
              "      <td>1</td>\n",
              "      <td>7.59</td>\n",
              "      <td>10.18</td>\n",
              "      <td>56</td>\n",
              "    </tr>\n",
              "    <tr>\n",
              "      <th>1</th>\n",
              "      <td>2</td>\n",
              "      <td>7.91</td>\n",
              "      <td>11.66</td>\n",
              "      <td>60</td>\n",
              "    </tr>\n",
              "    <tr>\n",
              "      <th>2</th>\n",
              "      <td>3</td>\n",
              "      <td>5.14</td>\n",
              "      <td>7.92</td>\n",
              "      <td>82</td>\n",
              "    </tr>\n",
              "    <tr>\n",
              "      <th>3</th>\n",
              "      <td>4</td>\n",
              "      <td>7.71</td>\n",
              "      <td>9.61</td>\n",
              "      <td>55</td>\n",
              "    </tr>\n",
              "    <tr>\n",
              "      <th>4</th>\n",
              "      <td>5</td>\n",
              "      <td>6.68</td>\n",
              "      <td>9.75</td>\n",
              "      <td>67</td>\n",
              "    </tr>\n",
              "  </tbody>\n",
              "</table>\n",
              "</div>\n",
              "    <div class=\"colab-df-buttons\">\n",
              "\n",
              "  <div class=\"colab-df-container\">\n",
              "    <button class=\"colab-df-convert\" onclick=\"convertToInteractive('df-56dae529-285c-4ab3-b87e-5d297950cd50')\"\n",
              "            title=\"Convert this dataframe to an interactive table.\"\n",
              "            style=\"display:none;\">\n",
              "\n",
              "  <svg xmlns=\"http://www.w3.org/2000/svg\" height=\"24px\" viewBox=\"0 -960 960 960\">\n",
              "    <path d=\"M120-120v-720h720v720H120Zm60-500h600v-160H180v160Zm220 220h160v-160H400v160Zm0 220h160v-160H400v160ZM180-400h160v-160H180v160Zm440 0h160v-160H620v160ZM180-180h160v-160H180v160Zm440 0h160v-160H620v160Z\"/>\n",
              "  </svg>\n",
              "    </button>\n",
              "\n",
              "  <style>\n",
              "    .colab-df-container {\n",
              "      display:flex;\n",
              "      gap: 12px;\n",
              "    }\n",
              "\n",
              "    .colab-df-convert {\n",
              "      background-color: #E8F0FE;\n",
              "      border: none;\n",
              "      border-radius: 50%;\n",
              "      cursor: pointer;\n",
              "      display: none;\n",
              "      fill: #1967D2;\n",
              "      height: 32px;\n",
              "      padding: 0 0 0 0;\n",
              "      width: 32px;\n",
              "    }\n",
              "\n",
              "    .colab-df-convert:hover {\n",
              "      background-color: #E2EBFA;\n",
              "      box-shadow: 0px 1px 2px rgba(60, 64, 67, 0.3), 0px 1px 3px 1px rgba(60, 64, 67, 0.15);\n",
              "      fill: #174EA6;\n",
              "    }\n",
              "\n",
              "    .colab-df-buttons div {\n",
              "      margin-bottom: 4px;\n",
              "    }\n",
              "\n",
              "    [theme=dark] .colab-df-convert {\n",
              "      background-color: #3B4455;\n",
              "      fill: #D2E3FC;\n",
              "    }\n",
              "\n",
              "    [theme=dark] .colab-df-convert:hover {\n",
              "      background-color: #434B5C;\n",
              "      box-shadow: 0px 1px 3px 1px rgba(0, 0, 0, 0.15);\n",
              "      filter: drop-shadow(0px 1px 2px rgba(0, 0, 0, 0.3));\n",
              "      fill: #FFFFFF;\n",
              "    }\n",
              "  </style>\n",
              "\n",
              "    <script>\n",
              "      const buttonEl =\n",
              "        document.querySelector('#df-56dae529-285c-4ab3-b87e-5d297950cd50 button.colab-df-convert');\n",
              "      buttonEl.style.display =\n",
              "        google.colab.kernel.accessAllowed ? 'block' : 'none';\n",
              "\n",
              "      async function convertToInteractive(key) {\n",
              "        const element = document.querySelector('#df-56dae529-285c-4ab3-b87e-5d297950cd50');\n",
              "        const dataTable =\n",
              "          await google.colab.kernel.invokeFunction('convertToInteractive',\n",
              "                                                    [key], {});\n",
              "        if (!dataTable) return;\n",
              "\n",
              "        const docLinkHtml = 'Like what you see? Visit the ' +\n",
              "          '<a target=\"_blank\" href=https://colab.research.google.com/notebooks/data_table.ipynb>data table notebook</a>'\n",
              "          + ' to learn more about interactive tables.';\n",
              "        element.innerHTML = '';\n",
              "        dataTable['output_type'] = 'display_data';\n",
              "        await google.colab.output.renderOutput(dataTable, element);\n",
              "        const docLink = document.createElement('div');\n",
              "        docLink.innerHTML = docLinkHtml;\n",
              "        element.appendChild(docLink);\n",
              "      }\n",
              "    </script>\n",
              "  </div>\n",
              "\n",
              "\n",
              "<div id=\"df-5b914a60-60b0-40c9-8ef8-5b6b20af8a7b\">\n",
              "  <button class=\"colab-df-quickchart\" onclick=\"quickchart('df-5b914a60-60b0-40c9-8ef8-5b6b20af8a7b')\"\n",
              "            title=\"Suggest charts\"\n",
              "            style=\"display:none;\">\n",
              "\n",
              "<svg xmlns=\"http://www.w3.org/2000/svg\" height=\"24px\"viewBox=\"0 0 24 24\"\n",
              "     width=\"24px\">\n",
              "    <g>\n",
              "        <path d=\"M19 3H5c-1.1 0-2 .9-2 2v14c0 1.1.9 2 2 2h14c1.1 0 2-.9 2-2V5c0-1.1-.9-2-2-2zM9 17H7v-7h2v7zm4 0h-2V7h2v10zm4 0h-2v-4h2v4z\"/>\n",
              "    </g>\n",
              "</svg>\n",
              "  </button>\n",
              "\n",
              "<style>\n",
              "  .colab-df-quickchart {\n",
              "      --bg-color: #E8F0FE;\n",
              "      --fill-color: #1967D2;\n",
              "      --hover-bg-color: #E2EBFA;\n",
              "      --hover-fill-color: #174EA6;\n",
              "      --disabled-fill-color: #AAA;\n",
              "      --disabled-bg-color: #DDD;\n",
              "  }\n",
              "\n",
              "  [theme=dark] .colab-df-quickchart {\n",
              "      --bg-color: #3B4455;\n",
              "      --fill-color: #D2E3FC;\n",
              "      --hover-bg-color: #434B5C;\n",
              "      --hover-fill-color: #FFFFFF;\n",
              "      --disabled-bg-color: #3B4455;\n",
              "      --disabled-fill-color: #666;\n",
              "  }\n",
              "\n",
              "  .colab-df-quickchart {\n",
              "    background-color: var(--bg-color);\n",
              "    border: none;\n",
              "    border-radius: 50%;\n",
              "    cursor: pointer;\n",
              "    display: none;\n",
              "    fill: var(--fill-color);\n",
              "    height: 32px;\n",
              "    padding: 0;\n",
              "    width: 32px;\n",
              "  }\n",
              "\n",
              "  .colab-df-quickchart:hover {\n",
              "    background-color: var(--hover-bg-color);\n",
              "    box-shadow: 0 1px 2px rgba(60, 64, 67, 0.3), 0 1px 3px 1px rgba(60, 64, 67, 0.15);\n",
              "    fill: var(--button-hover-fill-color);\n",
              "  }\n",
              "\n",
              "  .colab-df-quickchart-complete:disabled,\n",
              "  .colab-df-quickchart-complete:disabled:hover {\n",
              "    background-color: var(--disabled-bg-color);\n",
              "    fill: var(--disabled-fill-color);\n",
              "    box-shadow: none;\n",
              "  }\n",
              "\n",
              "  .colab-df-spinner {\n",
              "    border: 2px solid var(--fill-color);\n",
              "    border-color: transparent;\n",
              "    border-bottom-color: var(--fill-color);\n",
              "    animation:\n",
              "      spin 1s steps(1) infinite;\n",
              "  }\n",
              "\n",
              "  @keyframes spin {\n",
              "    0% {\n",
              "      border-color: transparent;\n",
              "      border-bottom-color: var(--fill-color);\n",
              "      border-left-color: var(--fill-color);\n",
              "    }\n",
              "    20% {\n",
              "      border-color: transparent;\n",
              "      border-left-color: var(--fill-color);\n",
              "      border-top-color: var(--fill-color);\n",
              "    }\n",
              "    30% {\n",
              "      border-color: transparent;\n",
              "      border-left-color: var(--fill-color);\n",
              "      border-top-color: var(--fill-color);\n",
              "      border-right-color: var(--fill-color);\n",
              "    }\n",
              "    40% {\n",
              "      border-color: transparent;\n",
              "      border-right-color: var(--fill-color);\n",
              "      border-top-color: var(--fill-color);\n",
              "    }\n",
              "    60% {\n",
              "      border-color: transparent;\n",
              "      border-right-color: var(--fill-color);\n",
              "    }\n",
              "    80% {\n",
              "      border-color: transparent;\n",
              "      border-right-color: var(--fill-color);\n",
              "      border-bottom-color: var(--fill-color);\n",
              "    }\n",
              "    90% {\n",
              "      border-color: transparent;\n",
              "      border-bottom-color: var(--fill-color);\n",
              "    }\n",
              "  }\n",
              "</style>\n",
              "\n",
              "  <script>\n",
              "    async function quickchart(key) {\n",
              "      const quickchartButtonEl =\n",
              "        document.querySelector('#' + key + ' button');\n",
              "      quickchartButtonEl.disabled = true;  // To prevent multiple clicks.\n",
              "      quickchartButtonEl.classList.add('colab-df-spinner');\n",
              "      try {\n",
              "        const charts = await google.colab.kernel.invokeFunction(\n",
              "            'suggestCharts', [key], {});\n",
              "      } catch (error) {\n",
              "        console.error('Error during call to suggestCharts:', error);\n",
              "      }\n",
              "      quickchartButtonEl.classList.remove('colab-df-spinner');\n",
              "      quickchartButtonEl.classList.add('colab-df-quickchart-complete');\n",
              "    }\n",
              "    (() => {\n",
              "      let quickchartButtonEl =\n",
              "        document.querySelector('#df-5b914a60-60b0-40c9-8ef8-5b6b20af8a7b button');\n",
              "      quickchartButtonEl.style.display =\n",
              "        google.colab.kernel.accessAllowed ? 'block' : 'none';\n",
              "    })();\n",
              "  </script>\n",
              "</div>\n",
              "\n",
              "    </div>\n",
              "  </div>\n"
            ],
            "application/vnd.google.colaboratory.intrinsic+json": {
              "type": "dataframe",
              "variable_name": "df",
              "summary": "{\n  \"name\": \"df\",\n  \"rows\": 100,\n  \"fields\": [\n    {\n      \"column\": \"day\",\n      \"properties\": {\n        \"dtype\": \"number\",\n        \"std\": 29,\n        \"min\": 1,\n        \"max\": 100,\n        \"num_unique_values\": 100,\n        \"samples\": [\n          84,\n          54,\n          71\n        ],\n        \"semantic_type\": \"\",\n        \"description\": \"\"\n      }\n    },\n    {\n      \"column\": \"parent_sleep\",\n      \"properties\": {\n        \"dtype\": \"number\",\n        \"std\": 1.0158844283269488,\n        \"min\": 4.84,\n        \"max\": 9.0,\n        \"num_unique_values\": 90,\n        \"samples\": [\n          7.47,\n          6.86,\n          6.22\n        ],\n        \"semantic_type\": \"\",\n        \"description\": \"\"\n      }\n    },\n    {\n      \"column\": \"baby_sleep\",\n      \"properties\": {\n        \"dtype\": \"number\",\n        \"std\": 2.0742318427248527,\n        \"min\": 3.25,\n        \"max\": 12.07,\n        \"num_unique_values\": 88,\n        \"samples\": [\n          9.09,\n          10.18,\n          7.95\n        ],\n        \"semantic_type\": \"\",\n        \"description\": \"\"\n      }\n    },\n    {\n      \"column\": \"parent_grumpy\",\n      \"properties\": {\n        \"dtype\": \"number\",\n        \"std\": 10,\n        \"min\": 41,\n        \"max\": 91,\n        \"num_unique_values\": 37,\n        \"samples\": [\n          59,\n          52,\n          67\n        ],\n        \"semantic_type\": \"\",\n        \"description\": \"\"\n      }\n    }\n  ]\n}"
            }
          },
          "metadata": {},
          "execution_count": 1
        }
      ],
      "source": [
        "import pandas as pd\n",
        "\n",
        "df = pd.read_csv('https://raw.githubusercontent.com/sgeinitz/CS3120/main/lab1_data_parenthood.csv')\n",
        "df.head()"
      ]
    },
    {
      "cell_type": "markdown",
      "metadata": {
        "id": "IRr5kzC3FJ-8"
      },
      "source": [
        "For this dataset one observation consists of the following fields or columns:\n",
        "\n",
        "* `day` - the day of the baby's life and the day that the observation was made  \n",
        "* `parent_sleep` - number of hours of sleep the parent had the night before this day\n",
        "* `baby_sleep` - number of hours of sleep the baby had the night before this day\n",
        "* `parent_grumpy` - level of grumpiness of the parent on this day (this will be our `Y`, or what we will want to try to predict)\n",
        "\n",
        "To confirm that information, or if we didnt' know it ahead of time, we could use the pandas dataframe method, `describe`, to see some descriptive statistics for each column."
      ]
    },
    {
      "cell_type": "code",
      "execution_count": 2,
      "metadata": {
        "id": "sjAkvj_mFJ-8",
        "outputId": "02b04c3a-2804-4a15-bd7f-229ddba6e9fc",
        "colab": {
          "base_uri": "https://localhost:8080/",
          "height": 300
        }
      },
      "outputs": [
        {
          "output_type": "execute_result",
          "data": {
            "text/plain": [
              "              day  parent_sleep  baby_sleep  parent_grumpy\n",
              "count  100.000000    100.000000  100.000000      100.00000\n",
              "mean    50.500000      6.965200    8.049200       63.71000\n",
              "std     29.011492      1.015884    2.074232       10.04967\n",
              "min      1.000000      4.840000    3.250000       41.00000\n",
              "25%     25.750000      6.292500    6.425000       57.00000\n",
              "50%     50.500000      7.030000    7.950000       62.00000\n",
              "75%     75.250000      7.740000    9.635000       71.00000\n",
              "max    100.000000      9.000000   12.070000       91.00000"
            ],
            "text/html": [
              "\n",
              "  <div id=\"df-e88ddfbb-b518-48b6-8d7c-b72632905424\" class=\"colab-df-container\">\n",
              "    <div>\n",
              "<style scoped>\n",
              "    .dataframe tbody tr th:only-of-type {\n",
              "        vertical-align: middle;\n",
              "    }\n",
              "\n",
              "    .dataframe tbody tr th {\n",
              "        vertical-align: top;\n",
              "    }\n",
              "\n",
              "    .dataframe thead th {\n",
              "        text-align: right;\n",
              "    }\n",
              "</style>\n",
              "<table border=\"1\" class=\"dataframe\">\n",
              "  <thead>\n",
              "    <tr style=\"text-align: right;\">\n",
              "      <th></th>\n",
              "      <th>day</th>\n",
              "      <th>parent_sleep</th>\n",
              "      <th>baby_sleep</th>\n",
              "      <th>parent_grumpy</th>\n",
              "    </tr>\n",
              "  </thead>\n",
              "  <tbody>\n",
              "    <tr>\n",
              "      <th>count</th>\n",
              "      <td>100.000000</td>\n",
              "      <td>100.000000</td>\n",
              "      <td>100.000000</td>\n",
              "      <td>100.00000</td>\n",
              "    </tr>\n",
              "    <tr>\n",
              "      <th>mean</th>\n",
              "      <td>50.500000</td>\n",
              "      <td>6.965200</td>\n",
              "      <td>8.049200</td>\n",
              "      <td>63.71000</td>\n",
              "    </tr>\n",
              "    <tr>\n",
              "      <th>std</th>\n",
              "      <td>29.011492</td>\n",
              "      <td>1.015884</td>\n",
              "      <td>2.074232</td>\n",
              "      <td>10.04967</td>\n",
              "    </tr>\n",
              "    <tr>\n",
              "      <th>min</th>\n",
              "      <td>1.000000</td>\n",
              "      <td>4.840000</td>\n",
              "      <td>3.250000</td>\n",
              "      <td>41.00000</td>\n",
              "    </tr>\n",
              "    <tr>\n",
              "      <th>25%</th>\n",
              "      <td>25.750000</td>\n",
              "      <td>6.292500</td>\n",
              "      <td>6.425000</td>\n",
              "      <td>57.00000</td>\n",
              "    </tr>\n",
              "    <tr>\n",
              "      <th>50%</th>\n",
              "      <td>50.500000</td>\n",
              "      <td>7.030000</td>\n",
              "      <td>7.950000</td>\n",
              "      <td>62.00000</td>\n",
              "    </tr>\n",
              "    <tr>\n",
              "      <th>75%</th>\n",
              "      <td>75.250000</td>\n",
              "      <td>7.740000</td>\n",
              "      <td>9.635000</td>\n",
              "      <td>71.00000</td>\n",
              "    </tr>\n",
              "    <tr>\n",
              "      <th>max</th>\n",
              "      <td>100.000000</td>\n",
              "      <td>9.000000</td>\n",
              "      <td>12.070000</td>\n",
              "      <td>91.00000</td>\n",
              "    </tr>\n",
              "  </tbody>\n",
              "</table>\n",
              "</div>\n",
              "    <div class=\"colab-df-buttons\">\n",
              "\n",
              "  <div class=\"colab-df-container\">\n",
              "    <button class=\"colab-df-convert\" onclick=\"convertToInteractive('df-e88ddfbb-b518-48b6-8d7c-b72632905424')\"\n",
              "            title=\"Convert this dataframe to an interactive table.\"\n",
              "            style=\"display:none;\">\n",
              "\n",
              "  <svg xmlns=\"http://www.w3.org/2000/svg\" height=\"24px\" viewBox=\"0 -960 960 960\">\n",
              "    <path d=\"M120-120v-720h720v720H120Zm60-500h600v-160H180v160Zm220 220h160v-160H400v160Zm0 220h160v-160H400v160ZM180-400h160v-160H180v160Zm440 0h160v-160H620v160ZM180-180h160v-160H180v160Zm440 0h160v-160H620v160Z\"/>\n",
              "  </svg>\n",
              "    </button>\n",
              "\n",
              "  <style>\n",
              "    .colab-df-container {\n",
              "      display:flex;\n",
              "      gap: 12px;\n",
              "    }\n",
              "\n",
              "    .colab-df-convert {\n",
              "      background-color: #E8F0FE;\n",
              "      border: none;\n",
              "      border-radius: 50%;\n",
              "      cursor: pointer;\n",
              "      display: none;\n",
              "      fill: #1967D2;\n",
              "      height: 32px;\n",
              "      padding: 0 0 0 0;\n",
              "      width: 32px;\n",
              "    }\n",
              "\n",
              "    .colab-df-convert:hover {\n",
              "      background-color: #E2EBFA;\n",
              "      box-shadow: 0px 1px 2px rgba(60, 64, 67, 0.3), 0px 1px 3px 1px rgba(60, 64, 67, 0.15);\n",
              "      fill: #174EA6;\n",
              "    }\n",
              "\n",
              "    .colab-df-buttons div {\n",
              "      margin-bottom: 4px;\n",
              "    }\n",
              "\n",
              "    [theme=dark] .colab-df-convert {\n",
              "      background-color: #3B4455;\n",
              "      fill: #D2E3FC;\n",
              "    }\n",
              "\n",
              "    [theme=dark] .colab-df-convert:hover {\n",
              "      background-color: #434B5C;\n",
              "      box-shadow: 0px 1px 3px 1px rgba(0, 0, 0, 0.15);\n",
              "      filter: drop-shadow(0px 1px 2px rgba(0, 0, 0, 0.3));\n",
              "      fill: #FFFFFF;\n",
              "    }\n",
              "  </style>\n",
              "\n",
              "    <script>\n",
              "      const buttonEl =\n",
              "        document.querySelector('#df-e88ddfbb-b518-48b6-8d7c-b72632905424 button.colab-df-convert');\n",
              "      buttonEl.style.display =\n",
              "        google.colab.kernel.accessAllowed ? 'block' : 'none';\n",
              "\n",
              "      async function convertToInteractive(key) {\n",
              "        const element = document.querySelector('#df-e88ddfbb-b518-48b6-8d7c-b72632905424');\n",
              "        const dataTable =\n",
              "          await google.colab.kernel.invokeFunction('convertToInteractive',\n",
              "                                                    [key], {});\n",
              "        if (!dataTable) return;\n",
              "\n",
              "        const docLinkHtml = 'Like what you see? Visit the ' +\n",
              "          '<a target=\"_blank\" href=https://colab.research.google.com/notebooks/data_table.ipynb>data table notebook</a>'\n",
              "          + ' to learn more about interactive tables.';\n",
              "        element.innerHTML = '';\n",
              "        dataTable['output_type'] = 'display_data';\n",
              "        await google.colab.output.renderOutput(dataTable, element);\n",
              "        const docLink = document.createElement('div');\n",
              "        docLink.innerHTML = docLinkHtml;\n",
              "        element.appendChild(docLink);\n",
              "      }\n",
              "    </script>\n",
              "  </div>\n",
              "\n",
              "\n",
              "<div id=\"df-a96f097e-da52-49ba-95c8-43926ccd174a\">\n",
              "  <button class=\"colab-df-quickchart\" onclick=\"quickchart('df-a96f097e-da52-49ba-95c8-43926ccd174a')\"\n",
              "            title=\"Suggest charts\"\n",
              "            style=\"display:none;\">\n",
              "\n",
              "<svg xmlns=\"http://www.w3.org/2000/svg\" height=\"24px\"viewBox=\"0 0 24 24\"\n",
              "     width=\"24px\">\n",
              "    <g>\n",
              "        <path d=\"M19 3H5c-1.1 0-2 .9-2 2v14c0 1.1.9 2 2 2h14c1.1 0 2-.9 2-2V5c0-1.1-.9-2-2-2zM9 17H7v-7h2v7zm4 0h-2V7h2v10zm4 0h-2v-4h2v4z\"/>\n",
              "    </g>\n",
              "</svg>\n",
              "  </button>\n",
              "\n",
              "<style>\n",
              "  .colab-df-quickchart {\n",
              "      --bg-color: #E8F0FE;\n",
              "      --fill-color: #1967D2;\n",
              "      --hover-bg-color: #E2EBFA;\n",
              "      --hover-fill-color: #174EA6;\n",
              "      --disabled-fill-color: #AAA;\n",
              "      --disabled-bg-color: #DDD;\n",
              "  }\n",
              "\n",
              "  [theme=dark] .colab-df-quickchart {\n",
              "      --bg-color: #3B4455;\n",
              "      --fill-color: #D2E3FC;\n",
              "      --hover-bg-color: #434B5C;\n",
              "      --hover-fill-color: #FFFFFF;\n",
              "      --disabled-bg-color: #3B4455;\n",
              "      --disabled-fill-color: #666;\n",
              "  }\n",
              "\n",
              "  .colab-df-quickchart {\n",
              "    background-color: var(--bg-color);\n",
              "    border: none;\n",
              "    border-radius: 50%;\n",
              "    cursor: pointer;\n",
              "    display: none;\n",
              "    fill: var(--fill-color);\n",
              "    height: 32px;\n",
              "    padding: 0;\n",
              "    width: 32px;\n",
              "  }\n",
              "\n",
              "  .colab-df-quickchart:hover {\n",
              "    background-color: var(--hover-bg-color);\n",
              "    box-shadow: 0 1px 2px rgba(60, 64, 67, 0.3), 0 1px 3px 1px rgba(60, 64, 67, 0.15);\n",
              "    fill: var(--button-hover-fill-color);\n",
              "  }\n",
              "\n",
              "  .colab-df-quickchart-complete:disabled,\n",
              "  .colab-df-quickchart-complete:disabled:hover {\n",
              "    background-color: var(--disabled-bg-color);\n",
              "    fill: var(--disabled-fill-color);\n",
              "    box-shadow: none;\n",
              "  }\n",
              "\n",
              "  .colab-df-spinner {\n",
              "    border: 2px solid var(--fill-color);\n",
              "    border-color: transparent;\n",
              "    border-bottom-color: var(--fill-color);\n",
              "    animation:\n",
              "      spin 1s steps(1) infinite;\n",
              "  }\n",
              "\n",
              "  @keyframes spin {\n",
              "    0% {\n",
              "      border-color: transparent;\n",
              "      border-bottom-color: var(--fill-color);\n",
              "      border-left-color: var(--fill-color);\n",
              "    }\n",
              "    20% {\n",
              "      border-color: transparent;\n",
              "      border-left-color: var(--fill-color);\n",
              "      border-top-color: var(--fill-color);\n",
              "    }\n",
              "    30% {\n",
              "      border-color: transparent;\n",
              "      border-left-color: var(--fill-color);\n",
              "      border-top-color: var(--fill-color);\n",
              "      border-right-color: var(--fill-color);\n",
              "    }\n",
              "    40% {\n",
              "      border-color: transparent;\n",
              "      border-right-color: var(--fill-color);\n",
              "      border-top-color: var(--fill-color);\n",
              "    }\n",
              "    60% {\n",
              "      border-color: transparent;\n",
              "      border-right-color: var(--fill-color);\n",
              "    }\n",
              "    80% {\n",
              "      border-color: transparent;\n",
              "      border-right-color: var(--fill-color);\n",
              "      border-bottom-color: var(--fill-color);\n",
              "    }\n",
              "    90% {\n",
              "      border-color: transparent;\n",
              "      border-bottom-color: var(--fill-color);\n",
              "    }\n",
              "  }\n",
              "</style>\n",
              "\n",
              "  <script>\n",
              "    async function quickchart(key) {\n",
              "      const quickchartButtonEl =\n",
              "        document.querySelector('#' + key + ' button');\n",
              "      quickchartButtonEl.disabled = true;  // To prevent multiple clicks.\n",
              "      quickchartButtonEl.classList.add('colab-df-spinner');\n",
              "      try {\n",
              "        const charts = await google.colab.kernel.invokeFunction(\n",
              "            'suggestCharts', [key], {});\n",
              "      } catch (error) {\n",
              "        console.error('Error during call to suggestCharts:', error);\n",
              "      }\n",
              "      quickchartButtonEl.classList.remove('colab-df-spinner');\n",
              "      quickchartButtonEl.classList.add('colab-df-quickchart-complete');\n",
              "    }\n",
              "    (() => {\n",
              "      let quickchartButtonEl =\n",
              "        document.querySelector('#df-a96f097e-da52-49ba-95c8-43926ccd174a button');\n",
              "      quickchartButtonEl.style.display =\n",
              "        google.colab.kernel.accessAllowed ? 'block' : 'none';\n",
              "    })();\n",
              "  </script>\n",
              "</div>\n",
              "\n",
              "    </div>\n",
              "  </div>\n"
            ],
            "application/vnd.google.colaboratory.intrinsic+json": {
              "type": "dataframe",
              "summary": "{\n  \"name\": \"df\",\n  \"rows\": 8,\n  \"fields\": [\n    {\n      \"column\": \"day\",\n      \"properties\": {\n        \"dtype\": \"number\",\n        \"std\": 35.736237144555226,\n        \"min\": 1.0,\n        \"max\": 100.0,\n        \"num_unique_values\": 6,\n        \"samples\": [\n          100.0,\n          50.5,\n          75.25\n        ],\n        \"semantic_type\": \"\",\n        \"description\": \"\"\n      }\n    },\n    {\n      \"column\": \"parent_sleep\",\n      \"properties\": {\n        \"dtype\": \"number\",\n        \"std\": 33.275754474812146,\n        \"min\": 1.0158844283269488,\n        \"max\": 100.0,\n        \"num_unique_values\": 8,\n        \"samples\": [\n          6.965199999999999,\n          7.03,\n          100.0\n        ],\n        \"semantic_type\": \"\",\n        \"description\": \"\"\n      }\n    },\n    {\n      \"column\": \"baby_sleep\",\n      \"properties\": {\n        \"dtype\": \"number\",\n        \"std\": 33.01647807682308,\n        \"min\": 2.0742318427248527,\n        \"max\": 100.0,\n        \"num_unique_values\": 8,\n        \"samples\": [\n          8.049199999999999,\n          7.95,\n          100.0\n        ],\n        \"semantic_type\": \"\",\n        \"description\": \"\"\n      }\n    },\n    {\n      \"column\": \"parent_grumpy\",\n      \"properties\": {\n        \"dtype\": \"number\",\n        \"std\": 28.116476387973893,\n        \"min\": 10.049669575954155,\n        \"max\": 100.0,\n        \"num_unique_values\": 8,\n        \"samples\": [\n          63.71,\n          62.0,\n          100.0\n        ],\n        \"semantic_type\": \"\",\n        \"description\": \"\"\n      }\n    }\n  ]\n}"
            }
          },
          "metadata": {},
          "execution_count": 2
        }
      ],
      "source": [
        "df.describe()"
      ]
    },
    {
      "cell_type": "markdown",
      "metadata": {
        "id": "RtmuNcrqFJ-8"
      },
      "source": [
        "***\n",
        "### Q1: What does the column `parent_grumpy` look like? What is it's mean? What is it's minimum value? Maximum value? Based on all of that, what do you think the scale of grumpiness is? Is it between 1 and 10? Between -1 and 1?\n",
        "\n",
        "Mean: 67.71\n",
        "Min: 41\n",
        "Max: 91\n",
        "Range 41-91\n",
        "***"
      ]
    },
    {
      "cell_type": "markdown",
      "metadata": {
        "id": "_TQej_t9FJ-8"
      },
      "source": [
        "Next, let's look at if or how the columns are related to one another. There are descriptive statistics that we can calculate to do this but typically it's best to simply look at the data and see what it looks like.\n",
        "\n",
        "We'll use the Python module [seaborn](https://seaborn.pydata.org), which is for plotting and visualizing data."
      ]
    },
    {
      "cell_type": "code",
      "execution_count": 3,
      "metadata": {
        "id": "fYqnQi9MFJ-8",
        "outputId": "afb272d3-3447-4581-f2a9-4bd60ed0db0a",
        "colab": {
          "base_uri": "https://localhost:8080/",
          "height": 466
        }
      },
      "outputs": [
        {
          "output_type": "execute_result",
          "data": {
            "text/plain": [
              "<Axes: xlabel='day', ylabel='parent_grumpy'>"
            ]
          },
          "metadata": {},
          "execution_count": 3
        },
        {
          "output_type": "display_data",
          "data": {
            "text/plain": [
              "<Figure size 640x480 with 1 Axes>"
            ],
            "image/png": "[encoded data removed]"
          },
          "metadata": {}
        }
      ],
      "source": [
        "import seaborn as sns\n",
        "\n",
        "sns.scatterplot(data=df, x='day', y='parent_grumpy')"
      ]
    },
    {
      "cell_type": "markdown",
      "metadata": {
        "id": "jyiTfH5ZFJ-8"
      },
      "source": [
        "***\n",
        "### Q2: Does there appear to be a relationship of any kind between day and how grumpy the parent is? In other words, does a parent's level of grumpiness get better or worse in the first 100 days of baby's life? Is there any type of pattern in how these two variables are related?\n",
        "\n",
        "There is a loose trend of parents' grumpiness decreasing between days 0 and 20 and increasing between days 20 and 100. It's very loose though and I'd be more confident in the latter.\n",
        "***"
      ]
    },
    {
      "cell_type": "markdown",
      "metadata": {
        "id": "t1mLGtyXFJ-8"
      },
      "source": [
        "Next, let's look at the other fields versus a parent's level of grumpiness. Note that we'll now use the other common Python module for plotting and visualization, matplotlib. This module is lower-level than seaborn which allows us to create multiple plots side by side, and manipulate other small details of plots."
      ]
    },
    {
      "cell_type": "code",
      "execution_count": 4,
      "metadata": {
        "id": "vzqCWSIFFJ-8",
        "outputId": "d9aca7f3-0b75-44ec-df7e-e4ef9b77f186",
        "colab": {
          "base_uri": "https://localhost:8080/",
          "height": 388
        }
      },
      "outputs": [
        {
          "output_type": "display_data",
          "data": {
            "text/plain": [
              "<Figure size 1000x400 with 2 Axes>"
            ],
            "image/png": "[encoded data removed]"
          },
          "metadata": {}
        }
      ],
      "source": [
        "import matplotlib.pyplot as plt\n",
        "\n",
        "#fig, (ax1, ax2, ax3) = plt.subplots(1, 3, figsize=(12, 4))\n",
        "fig, (ax1, ax2) = plt.subplots(1, 2, figsize=(10, 4))\n",
        "sns.scatterplot(data=df, x='baby_sleep', y='parent_grumpy', ax=ax1)\n",
        "sns.scatterplot(data=df, x='parent_sleep', y='parent_grumpy', ax=ax2, color='red')\n",
        "#sns.scatterplot(data=df, x='baby_sleep', y='parent_sleep', ax=ax3, color='red')\n",
        "plt.show()"
      ]
    },
    {
      "cell_type": "markdown",
      "metadata": {
        "id": "KVoDV39SFJ-9"
      },
      "source": [
        "***\n",
        "### Q3: What is the relationship that seems more important here? In other words, which do you think is a more direct cause of a parent being grumpy?\n",
        "\n",
        "It's seems that the amount that the parent sleeps is more directly related to the grumpiness than the amount that the baby sleeps(though, naturally the amount that the parent sleeps is related to how much the baby sleeps)\n",
        "\n",
        "***"
      ]
    },
    {
      "cell_type": "markdown",
      "metadata": {
        "id": "MWRwQR52FJ-9"
      },
      "source": [
        "## Simple Linear Regression\n",
        "\n",
        "There is a lot more that could be discussed about which variable drives what, in what order, etc. For now though, let's go ahead and begin fitting a linear regression. As we've seen, simple linear regression is an approach for predicting a **quantitative response** using a **single feature** (or \"predictor\" or \"input variable\"). It takes the following form:\n",
        "\n",
        "$y = \\beta_0 + \\beta_1x \\quad $ or $ \\quad y = b + w x$\n",
        "\n",
        "What does each term represent?\n",
        "- $y$ is the response\n",
        "- $x$ is the feature\n",
        "- $\\beta_0$ is the y-intercept of the line, which we could also call the **bias** parameter, $b$\n",
        "- $\\beta_1$ is the slope of the line or coefficient for x, which we could also call the **weight** parameter, $w$\n",
        "\n",
        "Together, $\\beta_0$ and $\\beta_1$, or $b$ and $w$ are called the **model coefficients**, or **parameters** of the model. To train or fit the model it must \"learn\" the values of these parameters. Once we've learned these coefficients, we can use the model to make predictions!"
      ]
    },
    {
      "cell_type": "markdown",
      "metadata": {
        "id": "GNgmGRrMFJ-9"
      },
      "source": [
        "What do you mean by \"learn\"?  Well you are probably more familiar with the phrase \"fit\" meaning we adjust the settings of the model coefficients (aka as parameters) until the line seems like a good summary of the data.  Fitting thus mean adjusting some internal numbers so that the better reflect the underlying data set.  Well when a human (or machine) learns it, it is in some sense of the same thing.  We change the connections of the weights (or parameters) inside our brains to help us better predict our environment.  For instance if your roommate is prone to late night partying and being grumpy the next day you might mentally fit a model to the experiences you have and \"learn\" what features are predictive of them being grumpy.  So basically fitting a linear regression model is the same as doing basic machine learning! Wow!\n",
        "\n",
        "Before we get into using the computer to \"fit\" our data, let's start simple and do things by hand. Try adjusting the sliders below to get to what you think is a good model fit. As mentioned in class, getting roughly half of the points above the line and half below the line is ideally what we want."
      ]
    },
    {
      "cell_type": "code",
      "execution_count": 5,
      "metadata": {
        "id": "rsjHz4hhFJ-9",
        "outputId": "51b75f01-cf13-4261-d6a3-eea921b0c573",
        "colab": {
          "base_uri": "https://localhost:8080/",
          "height": 606,
          "referenced_widgets": [
            "093679554b7a46c1a3af23442eb61c4b",
            "e6906cb14fa74f91849f2480fadd07e9",
            "e30a59cfb58d41129d77da518ceff683",
            "802e40de7c8a4baba88c80db36173c07",
            "758ba20cf982423b9b39c776b6728d5e",
            "44221d20da644f91b62facab8f323e30",
            "37be01554d2949d1a565dc6cec05faec",
            "2c36d69f87fd4f508e47474d6eba9bcb",
            "176752ac647f433a9155feb62939ddcd",
            "95637e647051477abe19001a33142bd1"
          ]
        }
      },
      "outputs": [
        {
          "output_type": "display_data",
          "data": {
            "text/plain": [
              "interactive(children=(IntSlider(value=0, description='slope', max=20, min=-20), IntSlider(value=50, descriptio…"
            ],
            "application/vnd.jupyter.widget-view+json": {
              "version_major": 2,
              "version_minor": 0,
              "model_id": "093679554b7a46c1a3af23442eb61c4b"
            }
          },
          "metadata": {}
        }
      ],
      "source": [
        "from IPython.core.display import HTML, Markdown\n",
        "import ipywidgets as widgets\n",
        "import numpy as np\n",
        "\n",
        "@widgets.interact(slope=widgets.IntSlider(min=-20, max=20, step=1, value=0), intercept=widgets.IntSlider(min=0, max=200, step=1, value=50))\n",
        "def plot_grumpiness(slope, intercept):\n",
        "    predict = intercept + slope * df.parent_sleep\n",
        "    resid = df.parent_grumpy - predict\n",
        "    fig, ax = plt.subplots(figsize=(9,6))\n",
        "\n",
        "    x1 = np.linspace(df.parent_sleep.min(), df.parent_sleep.max(), 400)\n",
        "    y1 = intercept + slope * x1\n",
        "\n",
        "    ax.plot(df.parent_sleep, df.parent_grumpy, 'ko', markersize=4)\n",
        "\n",
        "    ax.plot(x1, y1, '-', color='steelblue', linewidth=1)\n",
        "    plt.xlabel(\"dad sleep\")\n",
        "    plt.ylabel(\"dad grumpy level\")\n",
        "\n",
        "    plt.show()\n"
      ]
    },
    {
      "cell_type": "markdown",
      "metadata": {
        "id": "QIbPlFJfFJ-9"
      },
      "source": [
        "If you used the approach of getting half of the points above the line and half below the line, you probably realized that there are several different ways to acheive this - not all of which make sense. That's why we instead think about fitting a regression model as minimizing all **residuals**. A residual is defined as the difference between the the observation $y$ and the prediction $\\hat{y}$.\n",
        "\n",
        "Specifically, the **residual for the $i^{th}$ observation** in the data is defined as:\n",
        "* $y_i - \\hat{y}_i$\n",
        "\n",
        "The next plot shows what are known as the **residuals** between the actual data points (black) and the regression line (blue). As you can see the total amount of red changes depending on how good of a fit your parameter values give you. Use this widget to make your own *guesstimate* of what the values of $\\beta_0$ and $\\beta_1$ should be.\n"
      ]
    },
    {
      "cell_type": "code",
      "execution_count": 6,
      "metadata": {
        "id": "mC8GYVMeFJ-9",
        "outputId": "4ecefe92-a6d2-4392-f35f-c749a18caebe",
        "colab": {
          "base_uri": "https://localhost:8080/",
          "height": 606,
          "referenced_widgets": [
            "64b9672727d7415d8c596c1e591a6d97",
            "d481bdf7eabf4518a0bb87502ba6fdcb",
            "55222e0902b94441a67b2a44d9e2ede9",
            "b64ac6f719c54cf18c801221c6476224",
            "7de6994a6b504718abc9c1950a6692fe",
            "c1f61e6a157847c1b8e7c9bc94eba4f5",
            "bbd541a4cb0244838d8332fb283e92a5",
            "ba36fac52aa24ac3b501a2d451870619",
            "644dd4a56e744cba9b23ec25ea0a069b",
            "d052239459404ae5b372a05e98d77ae6"
          ]
        }
      },
      "outputs": [
        {
          "output_type": "display_data",
          "data": {
            "text/plain": [
              "interactive(children=(IntSlider(value=0, description='slope', max=20, min=-20), IntSlider(value=50, descriptio…"
            ],
            "application/vnd.jupyter.widget-view+json": {
              "version_major": 2,
              "version_minor": 0,
              "model_id": "64b9672727d7415d8c596c1e591a6d97"
            }
          },
          "metadata": {}
        }
      ],
      "source": [
        "@widgets.interact(slope=widgets.IntSlider(min=-20, max=20, step=1, value=0), intercept=widgets.IntSlider(min=0, max=200, step=1, value=50))\n",
        "def plot_grumpiness(slope, intercept):\n",
        "    predict = intercept+slope*df.parent_sleep\n",
        "    resid = df.parent_grumpy-predict\n",
        "    fig, ax = plt.subplots(figsize=(9,6))\n",
        "\n",
        "    x1 = np.linspace(df.parent_sleep.min(), df.parent_sleep.max(),400)\n",
        "    y1 = intercept+slope*x1\n",
        "\n",
        "    ax.plot(df.parent_sleep, df.parent_grumpy,'ko',markersize=4)\n",
        "    ax.plot(df.parent_sleep, df.parent_grumpy-resid,'o',markersize=4,markeredgecolor='r', markeredgewidth=.4, markerfacecolor='white')\n",
        "\n",
        "    ax.plot(x1,y1,'-',color='blue',linewidth=1)\n",
        "    plt.xlabel(\"dad sleep\")\n",
        "    plt.ylabel(\"dad grumpiness\")\n",
        "\n",
        "    ax.vlines(df.parent_sleep, df.parent_grumpy, df.parent_grumpy-resid,'r',linewidth=0.5)\n",
        "    plt.show()\n",
        "\n"
      ]
    },
    {
      "cell_type": "markdown",
      "metadata": {
        "id": "2I9PC289FJ-9"
      },
      "source": [
        "***\n",
        "### Q4: What values of $\\beta_0$ and $\\beta_1$ result in a good model fit? Is the slope positive or negative? Explain why?\n",
        "\n",
        "$\\beta_0$ = 133,\n",
        "$\\beta_1$ = -10\n",
        "The slope is negative because as the amount of sleep dad gets increases, the grumpiness decreases.\n",
        "***"
      ]
    },
    {
      "cell_type": "markdown",
      "metadata": {
        "id": "Y-xcEZdAFJ-9"
      },
      "source": [
        "## Estimating Model Coefficients (i.e. \"training\" the model)\n",
        "\n",
        "The mechanics of fitting a line to some data, or \"learning\" the model parameter values, or \"training\" the model is better done using a precise method rather than eyeballing it as you did above. Generally speaking, coefficients are estimated using the **least squares criterion**, which means we will find the line (mathematically) which minimizes the **sum of squared residuals** (or \"sum of squared errors\"). This can be summed up in the following graphic.\n",
        "\n",
        "![toyexample](https://cims.nyu.edu/~brenden/courses/labincp/_images/08_estimating_coefficients.png)\n",
        "\n",
        "In the figure above...\n",
        "- the black dots are the **observed values** of x and y,\n",
        "- the blue line is the **least squares line**,\n",
        "- the red lines are the **residuals**, which are the distances between the observed values and the least squares line.\n",
        "\n",
        "Remember, model parameters in the regression model can be interpreted as follows.\n",
        "- $\\beta_0$ is the **intercept** (the value of $y$ when $x$=0)\n",
        "- $\\beta_1$ is the **slope** (the change in $y$ divided by change in $x$)\n",
        "\n",
        "Here is a graphical depiction of those calculations:\n",
        "\n",
        "![toyexample2](https://cims.nyu.edu/~brenden/courses/labincp/_images/08_slope_intercept.png)\n"
      ]
    },
    {
      "cell_type": "markdown",
      "metadata": {
        "id": "-BvJFhaPFJ-9"
      },
      "source": [
        "To find the best possible parameter values (i.e. to fit or train the model), we want to minimize the sum of squared errors. Note that since $\\hat{y}$ is a function of $\\beta_0$ and $\\beta_1$, then the sum of squared errors can be stated as a function of them (and then minimized). Namely, we want to minimize the following expression with respect to $\\beta_0$ and $\\beta_1$.\n",
        "\n",
        "* $\\sum_{i=1}^{n} (y_i - (\\beta_0 + \\beta_1 x_i))^2$\n",
        "\n",
        "We could manually calculate the values by minimizing the above, but let's first use the [statmodels](https://www.statsmodels.org/stable/install.html) Python package. See how these numbers compare to the values you found in your *guesstimate* above."
      ]
    },
    {
      "cell_type": "code",
      "execution_count": 7,
      "metadata": {
        "id": "mBS7QHi9FJ-9",
        "outputId": "266b794e-29fb-4c5f-99bf-60ab2ba44905",
        "colab": {
          "base_uri": "https://localhost:8080/"
        }
      },
      "outputs": [
        {
          "output_type": "stream",
          "name": "stdout",
          "text": [
            "Intercept       125.956292\n",
            "parent_sleep     -8.936756\n",
            "dtype: float64\n"
          ]
        }
      ],
      "source": [
        "import statsmodels.formula.api as smf\n",
        "\n",
        "sm_lm = smf.ols(formula='parent_grumpy ~ parent_sleep', data=df).fit()\n",
        "print(sm_lm.params)"
      ]
    },
    {
      "cell_type": "markdown",
      "metadata": {
        "id": "Qfs_d7MTFJ-9"
      },
      "source": [
        "A couple of points on how we used `smf` here...\n",
        "* First is that we use the `smf.ols()` function which does an _ordinary least squares_ fit.  This is the type of fit which tries to minimize the sum of the squared residuals.  There are other types of fitting proceedures such as weighted least squares which is used when you expect the variance of the predicted variable to changes with the input predictor as well as its mean value.  We won't worry about those variations of linear regression in this class though.\n",
        "\n",
        "* Second is that we provide the `ols()` function or method with the pandas dataframe we are working with, `df`, and then provide a formula.  The formula expresses our \"_model_\" and is which variables in the data frame we are trying to relate.  Here the formula `parent_grumpy ~ parent_sleep` means that we want to predict `parent_grumpy` values given `parent_sleep` values. So you think of `parent_grumpy` as our \"_y value_\" and `parent_sleep` are our \"_x value_\".\n",
        "\n",
        "\n",
        "Although the **statsmodels** Python module is a powerful and intuitive tool for statistics, and similar to the standard libraries in R, the module that is more common among Data Scientists and Machine Learning practioners is [scikitlearn](https://scikit-learn.org/stable/). We'll use this now. Try to make a note of how the syntax is different between statsmodels and scikitlearn."
      ]
    },
    {
      "cell_type": "code",
      "execution_count": 8,
      "metadata": {
        "id": "foJM-nGzFJ-9",
        "outputId": "3565223e-db2e-4e1e-ed10-c40d624a3106",
        "colab": {
          "base_uri": "https://localhost:8080/"
        }
      },
      "outputs": [
        {
          "output_type": "stream",
          "name": "stdout",
          "text": [
            "[-8.93675582] 125.95629163351283\n"
          ]
        }
      ],
      "source": [
        "from sklearn import linear_model\n",
        "\n",
        "lm = linear_model.LinearRegression()\n",
        "lm.fit(df[['parent_sleep']], df['parent_grumpy'])\n",
        "print(lm.coef_, lm.intercept_)"
      ]
    },
    {
      "cell_type": "markdown",
      "metadata": {
        "id": "nF4x8S8dFJ-9"
      },
      "source": [
        "It's easy to see that the values of the parameters for both models are the same, but notice the small diffences in the names of usage of them. The **statsmodel** model gives us all of the parameters in attribute `lm.params`.\n",
        "\n",
        "With `scikitlearn`, or `sklearn` above, the model has different attributes for each parameter, `lm.coef_`, `lm.intercept`. Note that `lm.coef` itself is a list though, so if our model was going to have other predictors, i.e. other X variables or inputs, then they would be added to the list, `lm.coef`."
      ]
    },
    {
      "cell_type": "markdown",
      "metadata": {
        "id": "GeBTkew1FJ-9"
      },
      "source": [
        "## Interpreting the Model\n",
        "\n",
        "One of the biggest advantages of ordinary least squares regression is that it is highly interpretable. By this, we mean to say that it's possible to look at the model parameter values and directly draw some conclusion or interpretion from it.\n",
        "\n",
        "That is, we can directly interpret the `slope` or `weight` parameter associated with `parent_sleep`, according to its value. In this case, with a value of `-8.9`, we can say:\n",
        "\n",
        "- A one \"unit\" increase in hours of sleep is associated with a -8.9367 \"unit\" decrease (because it is negative) in grumpiness. This should kind of make sense once you think about it too, i.e. more sleep = less grumpy!\n",
        "\n",
        "The other parameter in our model, the `intercept` or `bias` term, tells us what the model would predict if `X`, or `parent_sleep` in this case, were zero (0). (You can sort understand why it is referred to a bias term also, since it's the value you would get if you didn't have any information, so it's sort of a presupposed value, or bias.)\n",
        "If `parent_sleep` is zero, then `pare\n",
        "nt_grumpy` would be predicted to be 125.95. This means that if a parent gets no sleep at all their grumpiness will be at a very high level of 125.95!  Bad news."
      ]
    },
    {
      "cell_type": "markdown",
      "metadata": {
        "id": "Qg4YEJAgFJ-9"
      },
      "source": [
        "***\n",
        "### Q5: Suppose that the _grumpiness_ scale is between 0 and 100. How would you explain or justify the prediction the model would make if a parent did not sleep at all the night before? Or, if they slept only one hour? What does this say about the model, is it a \"good\" or \"bad\" model?\n",
        "\n",
        "If the parent did not sleep at all, the model would predict the y intercept of 100. If they only slept 1 hour, their grumpiness score would be 100 - the slope(x coefficient) as 1 hour would correlate to one 'unit'/one step of the slope.\n",
        "\n",
        "***\n",
        "\n",
        "Note that this question is related to a famous saying in Statistics, which is \"*All models are wrong, but some are useful*\". This essentially says that every model has limitations, or is incorrect in some way, but can still make sense and yield useful results when used in the appropriate setting.\n",
        "\n",
        "![image](https://miro.medium.com/v2/resize:fit:1400/1*EJZZKiXLcbp_MxRW9HJrmA.jpeg)"
      ]
    },
    {
      "cell_type": "markdown",
      "metadata": {
        "id": "wYBYvLOMFJ-9"
      },
      "source": [
        "## Using the Model for Prediction\n",
        "\n",
        "Once the model has been fit or trained with the training data, we can now use it for predictions. In other words, with just the following equation it is possible to make a prediction for any new value of `x`, i.e. `parent_sleep`.\n",
        "$$y = 125.956292 + -8.936756 \\times x$$"
      ]
    },
    {
      "cell_type": "markdown",
      "metadata": {
        "id": "58K1N6jyFJ-9"
      },
      "source": [
        "***\n",
        "\n",
        "### Q5: Using only the trained model the parent now wants to make a prediction for tomorrow. Everything is going smooth so they antipicate getting a good night of sleep, or around `8.5` hours of sleep. What will their predicted level of grumpiness be tomorrow?\n",
        "\n",
        "49.99386717\n",
        "\n",
        "***"
      ]
    },
    {
      "cell_type": "code",
      "execution_count": 9,
      "metadata": {
        "id": "lr2KPDEZFJ-9",
        "outputId": "ac6f3d13-e32d-4bb3-8350-7694ab6f2767",
        "colab": {
          "base_uri": "https://localhost:8080/"
        }
      },
      "outputs": [
        {
          "output_type": "execute_result",
          "data": {
            "text/plain": [
              "array([49.99386717])"
            ]
          },
          "metadata": {},
          "execution_count": 9
        }
      ],
      "source": [
        "hours_of_sleep = 8.5\n",
        "X_new = pd.DataFrame({'parent_sleep': [hours_of_sleep]})\n",
        "lm.predict(X_new)"
      ]
    },
    {
      "cell_type": "markdown",
      "metadata": {
        "id": "ftCY5_NvFJ--"
      },
      "source": [
        "## Plotting the least squares regression line\n",
        "\n",
        "Let's take a look at the best fit line.  There are two very easy ways to do this.  One is using seaborn's regplot which takes care of all of the underlying steps to plot the regression line."
      ]
    },
    {
      "cell_type": "code",
      "execution_count": null,
      "metadata": {
        "id": "wtRD-xKLFJ--"
      },
      "outputs": [],
      "source": [
        "sns.regplot(x='parent_sleep', y='parent_grumpy', data=df)"
      ]
    },
    {
      "cell_type": "markdown",
      "metadata": {
        "id": "kp451_8jFJ--"
      },
      "source": [
        "Alternatively, if we want more control over the plot, or want to make other modifications, then using matplotlib is often going to be preferred."
      ]
    },
    {
      "cell_type": "code",
      "execution_count": null,
      "metadata": {
        "id": "e0Xk8WHgFJ--"
      },
      "outputs": [],
      "source": [
        "fig, ax = plt.subplots(figsize=(6.5,4))\n",
        "\n",
        "# create a DataFrame with the minimum and maximum values of sleep\n",
        "x1 = pd.DataFrame({'parent_sleep': [df.parent_sleep.min(), df.parent_sleep.max()]})\n",
        "y1 = lm.predict(x1)  # predict for the two data points using the fitted model in lm\n",
        "ax.plot(df.parent_sleep, df.parent_grumpy, 'ko', markersize=4)\n",
        "ax.plot(x1, y1, '-', color='steelblue', linewidth=1)\n",
        "plt.xlabel(\"parent_sleep\")\n",
        "plt.ylabel(\"parent_grumpy\")\n",
        "plt.show()"
      ]
    },
    {
      "cell_type": "markdown",
      "metadata": {
        "id": "CFxpKumTFJ--"
      },
      "source": [
        "## Confidence in our Model\n",
        "\n",
        "As mentioned before, the **statsmodels** library offers some convience for more traditional statistics questions or tasks. One of those is getting an idea of how confident we are about the estimated values of the parameters. Looking at the confidence intervals for the parameter value estimates gives us a decent idea of whether the model fits this data reasonably well. Below we look at the 95% confidence interval, or the $(1-\\alpha)$% confidence interval.\n",
        "\n",
        "As you can see, although there is a range of possible values, the range is reasonably small, telling us that there is a high level of confidence these parameter values estimates are yielding a model that fits the data reasonably well. We have to be careful not to misinterpret this though, remember that the precise intrepretation of the confidence interval is...\n",
        "\n",
        "* If the population from which this sample was drawn was **sampled 100 times**, approximately **95 of those confidence intervals** would contain the \"true\" coefficient."
      ]
    },
    {
      "cell_type": "code",
      "execution_count": null,
      "metadata": {
        "id": "CepJQm1_FJ--"
      },
      "outputs": [],
      "source": [
        "# print the confidence intervals for the model coefficients\n",
        "sm_lm.conf_int(alpha=0.05)"
      ]
    },
    {
      "cell_type": "markdown",
      "metadata": {
        "id": "mCJZCgWtFJ--"
      },
      "source": [
        "Since the **sklearn** package tends to take more of a machine learning approach it does not have some of the same functionality as statsmodels. However, with a few more steps, it is possible to calculate. It's possible though, and you should verify that the confidence intervals are the same as above."
      ]
    },
    {
      "cell_type": "code",
      "execution_count": null,
      "metadata": {
        "id": "dsmg0RyEFJ--"
      },
      "outputs": [],
      "source": [
        "# needs the stats module for getting appropriate t-values\n",
        "from scipy import stats\n",
        "\n",
        "def get_conf_int(alpha, lr, X, y):\n",
        "    coefs = np.r_[[lr.intercept_], lr.coef_]\n",
        "    X_aux = X.copy()\n",
        "    X_aux.insert(0, 'const', 1)\n",
        "    dof = -np.diff(X_aux.shape)[0]\n",
        "    mse = np.sum((y - lr.predict(X)) ** 2) / dof\n",
        "    var_params = np.diag(np.linalg.inv(X_aux.T.dot(X_aux)))\n",
        "    t_val = stats.t.isf(alpha/2, dof)\n",
        "    gap = t_val * np.sqrt(mse * var_params)\n",
        "\n",
        "    return pd.DataFrame({\n",
        "        'lower': coefs - gap, 'upper': coefs + gap\n",
        "    }, index=X_aux.columns)\n",
        "\n",
        "get_conf_int(0.05, lm, df[['parent_sleep']], df['parent_grumpy'])"
      ]
    },
    {
      "cell_type": "code",
      "execution_count": null,
      "metadata": {
        "id": "mO4Ai5msFJ_B"
      },
      "outputs": [],
      "source": [
        "np.diff(df.shape)"
      ]
    },
    {
      "cell_type": "markdown",
      "metadata": {
        "id": "Jc1vM3uHFJ_B"
      },
      "source": [
        "Again, remember that we only have a **single sample of data**, and not the **entire population of data**. The \"true\" coefficient is either within this interval or it isn't, but there's no way to actually know. We estimate the coefficient with the data we do have, and we show uncertainty about that estimate by giving a range that the coefficient is **probably** within.\n",
        "\n",
        "Also note that using 95% confidence intervals is just a convention. We could create 90% confidence intervals (which will be more narrow), or 99% confidence intervals (which will be wider), or whatever intervals we think make the most sense for our analysis/task."
      ]
    },
    {
      "cell_type": "markdown",
      "metadata": {
        "id": "nad1n5iBFJ_B"
      },
      "source": [
        "## Hypothesis Testing and p-values\n",
        "\n",
        "Closely related to confidence intervals is **hypothesis testing**. Generally speaking, we start with a **null hypothesis** and an **alternative hypothesis** (that is opposite the null). Then, we check whether the data supports **rejecting the null hypothesis** or **failing to reject the null hypothesis**.\n",
        "\n",
        "(Note that \"failing to reject\" the null is not the same as \"accepting\" the null hypothesis. The alternative hypothesis may indeed be true, except that we just don't have enough data to show that.)\n",
        "\n",
        "As it relates to model coefficients, here is the conventional hypothesis test:\n",
        "- **null hypothesis:** There is no relationship between dad sleep and grumpiness (and thus $\\beta_1$ equals zero)\n",
        "- **alternative hypothesis:** There is a relationship between dad sleep and dad grumpinss (and thus $\\beta_1$ is not equal to zero)"
      ]
    },
    {
      "cell_type": "code",
      "execution_count": null,
      "metadata": {
        "id": "t6JWx-DRFJ_B"
      },
      "outputs": [],
      "source": [
        "# print the p-values for the model coefficients\n",
        "sm_lm.pvalues"
      ]
    },
    {
      "cell_type": "markdown",
      "metadata": {
        "id": "BJr90lyeFJ_B"
      },
      "source": [
        "How do we test this hypothesis? Intuitively, we reject the null (and thus believe the alternative) if the 95% confidence interval **does not include zero**. That is generally much easier to intrepret than the p-value, which strictly speaking should be interpreted as follows:\n",
        "* If the null hypothesis is true, then the p-value is probability of observing the data that we did (and thus getting the model parameters that we did).\n",
        "\n",
        "In this case, since the the p-values are both so small, we can likely safely reject the null hypothesis in favor of the alternative.\n",
        "\n",
        "Note that we generally ignore the p-value for the intercept. So, focusing only on the model parameter associated with `parent_sleep`, and seeing a p-value far less than 0.05, we can conclude that there is a relationship between sleep and grumpiness."
      ]
    },
    {
      "cell_type": "markdown",
      "metadata": {
        "id": "JS_oJkQpFJ_B"
      },
      "source": [
        "## How Well Does the Model Fit the data?\n",
        "\n",
        "The most common way to evaluate the overall fit of a linear model is by the **R-squared** value. R-squared is calculated in such a way that it has the direct intrepretation of being the **proportion of variance explained**, meaning the proportion of variance in the observed data that is explained by the model, or the reduction in error over the **null model**. (The null model just predicts the mean of the observed response, and thus it has an intercept and no slope.)\n",
        "\n",
        "R-squared is between 0 and 1, and higher is better because it means that more variance is explained by the model. Here's an example of what R-squared might be for different models fit to the same dataset (but a different data than our parenthood data).\n",
        "\n",
        "![polyfits](https://github.com/sgeinitz/CS3120/blob/main/images/poly_fits.png?raw=true)\n",
        "\n",
        "You can see that the **blue line** explains some of the variance in the data (R-squared=0.54), the **green line** explains more of the variance (R-squared=0.64), and the **red line** fits the training data even further (R-squared=0.66). (No need to think about this too hard right now, but which of those possible"
      ]
    },
    {
      "cell_type": "markdown",
      "metadata": {
        "id": "Sdhg_NnQFJ_B"
      },
      "source": [
        "Getting back to our parenthood datset, let's now calculate the R-squared value for our simple linear model."
      ]
    },
    {
      "cell_type": "code",
      "execution_count": null,
      "metadata": {
        "id": "kIKK82ksFJ_B"
      },
      "outputs": [],
      "source": [
        "sm_lm.rsquared"
      ]
    },
    {
      "cell_type": "markdown",
      "metadata": {
        "id": "yEY2XndCFJ_B"
      },
      "source": [
        "It's difficult to say what \"_good_\" R-squared value is. The threshold for a good R-squared value will depend widely on the domain and data. Therefore, it's most useful as a tool for **comparing different models**, rather than as saying that a single model is \"_good_\"."
      ]
    },
    {
      "cell_type": "markdown",
      "metadata": {
        "id": "EJTmU4_lFJ_C"
      },
      "source": [
        "Up until now we have been pulling information from the fitted model piece by piece. However, there is a nice summary command with **statsmodels** that lets you access a bunch of information about your regression at once. Don't worry about all of the other statistics and details listed there, just know that almost all of the information you'll ever need about a linear regression model can be found there."
      ]
    },
    {
      "cell_type": "code",
      "execution_count": null,
      "metadata": {
        "id": "IwV7uhGgFJ_C"
      },
      "outputs": [],
      "source": [
        "sm_lm.summary()"
      ]
    },
    {
      "cell_type": "markdown",
      "metadata": {
        "id": "qn0EfZhWFJ_C"
      },
      "source": [
        "## Training a Linear Regression Manually\n",
        "\n",
        "We saw how easy it is to use Python to fit (i.e. train) a linear regression model. Let's go ahead and confirm that the manual approaches we've seen, and the intuition behind them also make sense.\n",
        "\n",
        "Most often we'll see a linear regression defined for one $i^{th}$ observation or training example. Which, for the feature $x_i$ and outcome $y_i$, is written as:\n",
        "$$y_i = \\beta_0 1 + \\beta_1 x_i$$\n",
        "\n",
        "However, we also saw that this can be written in vector or matrix notation where the matrix, $X$, has a column of 1's in it.\n",
        "$$\\vec{y} = X \\vec{\\beta}$$\n",
        "where\n",
        "$$\\vec{\\beta} = \\begin{bmatrix}\\beta_0 \\\\ \\beta_1\\end{bmatrix}$$\n",
        "Then, since (or if) the columns of the matrix $X$ are linearly independent, then the matrix $(X^T X)$ has an inverse, and the model parameters can be calculated directly using:\n",
        "$$\\vec{\\beta} = (X^T X)^{-1} X^T \\vec{y}$$\n",
        "\n",
        "Let's now confirm this works using the parenthood data. We'll first create the matrix $X$, being sure to add a $1$ column since that is needed to estimate $\\beta_0$.\n",
        ""
      ]
    },
    {
      "cell_type": "code",
      "execution_count": null,
      "metadata": {
        "id": "FzhtbprDFJ_C"
      },
      "outputs": [],
      "source": [
        "X = pd.DataFrame({'intercept': 1, 'parent_sleep': df.parent_sleep})\n",
        "X.head(n=3)"
      ]
    },
    {
      "cell_type": "markdown",
      "metadata": {
        "id": "xcvXeZH7FJ_C"
      },
      "source": [
        "Let's now do all of the remaining calculations, one step at a time."
      ]
    },
    {
      "cell_type": "code",
      "execution_count": null,
      "metadata": {
        "id": "TBYyK1QzFJ_C"
      },
      "outputs": [],
      "source": [
        "# Calculate X^T X\n",
        "XtX = np.dot(X.T, X)\n",
        "\n",
        "# Then the inverse of X^T X\n",
        "XtX_inv = np.linalg.inv(XtX)\n",
        "\n",
        "# Then X^T y\n",
        "Xty = np.dot(X.T, df.parent_grumpy)\n",
        "\n",
        "# And lastly the coefficients\n",
        "betas = np.dot(XtX_inv, Xty)\n",
        "betas"
      ]
    },
    {
      "cell_type": "markdown",
      "metadata": {
        "id": "kV3NLbe0FJ_C"
      },
      "source": [
        "While the linear algebra approach is useful for understanding the underlying math from another point of view, it not immediately intuitive why it works. The following diagram is maybe the best attempt at trying to explain the intuition behind this linear algebra approach.\n",
        "\n",
        "![projection](https://github.com/sgeinitz/CS3120/blob/main/images/projection.png?raw=true)\n",
        "\n",
        "That image is telling us that the any prediction coming out of our model is going to be in the column space of $X$ (i.e. it will lay in a space that spanned by all possible linear combinations of the columns of $X$.) It is not super important that you know this, but it's a fun alternative way to see how linear regression models are fit to their data.\n",
        "\n",
        "The more intuitive way to explain how we fit a linear regression model is by looking more precisely at that quantity we want to minimize, namely the SSE:\n",
        "$$\\text{SSE} = \\sum_{i=1}^{n} (y_i - \\hat{y}_i)^2$$\n",
        "\n",
        "Recall that since $\\hat{y}_i$ is a the prediction for the $i^{th}$ observation, we can write it as $\\beta_0 + \\beta_1 x_i$, and thus rewrite SSE as:\n",
        "$$\\text{SSE} = \\sum_{i=1}^{n} \\left(y_i - (\\beta_0 + \\beta_1 x_i)\\right)^2$$\n",
        "\n",
        "Since there are two parameters, $\\beta_0, \\beta_1$, it's easy for us to visualize what the SSE looks like as a function of these two parameters. Below is a heatmap or surface plot of these. Again, to train the model we need to find the model parameter values that minimize SSE. Look at the plot below to see if you can roughly guess what the parameter values are."
      ]
    },
    {
      "cell_type": "code",
      "execution_count": null,
      "metadata": {
        "id": "cWnaMHWMFJ_C"
      },
      "outputs": [],
      "source": [
        "beta0_range = 25\n",
        "beta0 = np.arange(lm.intercept_+beta0_range, lm.intercept_-beta0_range, -0.5)\n",
        "beta1_range = 4\n",
        "beta1 = np.arange(lm.coef_[0]-beta1_range, lm.coef_[0]+beta1_range, 0.1)\n",
        "surf = np.array( [[np.square(df.parent_grumpy - (beta0[i] + beta1[j]*df.parent_sleep)).sum() for j in range(len(beta1))] for i in range(len(beta0))] )\n",
        "df_surf = pd.DataFrame(surf, columns=beta1, index=beta0)\n",
        "\n",
        "fig, ax = plt.subplots(figsize=(10, 8))\n",
        "sns.heatmap(df_surf, cbar_kws={'label': 'SSE'}, cmap=\"RdYlGn_r\", ax=ax)\n",
        "ax.contour(np.arange(.5, df_surf.shape[1]), np.arange(.5, df_surf.shape[0]), df_surf, colors='black', levels=[1960, 9000, 50000, 150000], linewidths=0.5)\n",
        "\n",
        "plt.xlabel(\"beta1\")\n",
        "plt.ylabel(\"beta0\")\n",
        "plt.show()\n"
      ]
    },
    {
      "cell_type": "markdown",
      "metadata": {
        "id": "hskMO7heFJ_C"
      },
      "source": [
        "You probably already figured out how to find the parameter values above, which is to look at the values of $beta_0$ and $\\beta_1$ that corresponded to the lowest point on the surface. We can look the data used in the plot and see here."
      ]
    },
    {
      "cell_type": "code",
      "execution_count": null,
      "metadata": {
        "id": "NWPTs_M9FJ_C"
      },
      "outputs": [],
      "source": [
        "# find the minimum of the surface\n",
        "beta0_min, beta1_min = np.unravel_index(surf.argmin(), surf.shape)\n",
        "beta0[beta0_min], beta1[beta1_min]"
      ]
    },
    {
      "cell_type": "markdown",
      "metadata": {
        "id": "iQ22Anm5FJ_C"
      },
      "source": [
        "Notice that those values are nearly exactly what we found using **statsmodels**, **sklearn**, as well as the linear algebra approach. Let's try one more way of finding these parameter values now. For this we'll use calculus to solve for values of $\\beta_0$ and $\\beta_1$ that give us the minimum on the surface above (i.e. the value where the slope of the surface is zero).\n",
        "\n",
        "If you recall from Calculus class, we simply need to write the SSE as a function of the model parameters, $\\beta_0$, $\\beta_1$, and set it to zero, then solve. It's not important that you know how to do this exactly, but it's important to know that this is yet another way to think about \"_training_\" a linear regression model. Let's first explicitly state that the SSE is a function of the model parameters:\n",
        "$$\\text{SSE}(\\beta_0, \\beta_1) = \\sum_{i=1}^{n} \\left( y_i - (\\beta_0 + \\beta_1 x_i) \\right)^2$$\n"
      ]
    },
    {
      "cell_type": "markdown",
      "metadata": {
        "id": "gUIMGe8KFJ_C"
      },
      "source": [
        "Steps to Solve for $\\beta_0$ and $\\beta_1$ Using Calculus\n",
        "\n",
        "1. Partial Derivatives\n",
        "   - To minimize SSE, take the partial derivatives of SSE with respect to $\\beta_0$ and $\\beta_1$, and set them equal to zero.\n",
        "\n",
        "   Partial Derivative with respect to $\\beta_0$:\n",
        "   $$\\frac{\\partial \\text{SSE}}{\\partial \\beta_0} = \\sum_{i=1}^{n} -2 \\cdot \\left( y_i - \\beta_0 - \\beta_1 \\cdot x_i \\right) = 0$$\n",
        "\n",
        "   Partial Derivative with respect to $\\beta_1$:\n",
        "   $$\\frac{\\partial \\text{SSE}}{\\partial \\beta_1} = \\sum_{i=1}^{n} -2 \\cdot x_i \\cdot \\left( y_i - \\beta_0 - \\beta_1 \\cdot x_i \\right) = 0$$\n",
        "\n",
        "2. Simplify the Equations\n",
        "   - Simplify the partial derivative equations to form two normal equations.\n",
        "\n",
        "   For $\\beta_0$:\n",
        "   $$\\sum_{i=1}^{n} \\left( y_i - \\beta_0 - \\beta_1 \\cdot x_i \\right) = 0$$\n",
        "   - Expanding and beginning to isolate $\\beta_0$, we get:\n",
        "   $$\\sum_{i=1}^{n} y_i - n \\cdot \\beta_0 + \\beta_1 \\sum_{i=1}^{n} x_i = 0 \\quad \\rightarrow \\quad n \\cdot \\beta_0 = \\sum_{i=1}^{n} y_i -\\beta_1 \\cdot \\sum_{i=1}^{n} x_i $$\n",
        "   - Divide by $n$ to get:\n",
        "   $$\\beta_0 = \\bar{y} - \\beta_1 \\cdot \\bar{x}$$\n",
        "   where $\\bar{y} = \\frac{1}{n} \\sum_{i=1}^{n} y_i$ and $\\bar{x} = \\frac{1}{n} \\sum_{i=1}^{n} x_i$ are the means of $y$ and $x$, respectively.\n",
        "\n",
        "   For $\\beta_1$:\n",
        "   $$\\sum_{i=1}^{n} x_i \\cdot y_i = \\beta_0 \\cdot \\sum_{i=1}^{n} x_i + \\beta_1 \\cdot \\sum_{i=1}^{n} x_i^2$$\n",
        "   - Substitute $\\beta_0 = \\bar{y} - \\beta_1 \\cdot \\bar{x}$ into this equation:\n",
        "   $$\\sum_{i=1}^{n} x_i \\cdot y_i = (\\bar{y} - \\beta_1 \\cdot \\bar{x}) \\cdot \\sum_{i=1}^{n} x_i + \\beta_1 \\cdot \\sum_{i=1}^{n} x_i^2$$\n",
        "   - After expanding and simplifying:\n",
        "   $$\\beta_1 = \\frac{\\sum_{i=1}^{n} \\left( x_i - \\bar{x} \\right) \\left( y_i - \\bar{y} \\right)}{\\sum_{i=1}^{n} \\left( x_i - \\bar{x} \\right)^2}$$\n",
        "\n",
        "Let's now use these formulas to \"train\" the model (i.e. calculate the values of the parameters $\\beta_0$, $\\beta_1$) for our given training dataset.\n"
      ]
    },
    {
      "cell_type": "code",
      "execution_count": null,
      "metadata": {
        "id": "1NzMghqxFJ_C"
      },
      "outputs": [],
      "source": [
        "n = df.shape[0] # this is the number of observations or training examples\n",
        "b1_numerator = np.sum((df.parent_grumpy - df.parent_grumpy.mean()) * (df.parent_sleep - df.parent_sleep.mean()))\n",
        "b1_denominator = np.sum((df.parent_sleep - df.parent_sleep.mean()) ** 2)\n",
        "beta1_hat = b1_numerator / b1_denominator\n",
        "\n",
        "beta0_hat = df.parent_grumpy.mean() - beta1_hat * df.parent_sleep.mean()\n",
        "(beta0_hat, beta1_hat)"
      ]
    },
    {
      "cell_type": "markdown",
      "metadata": {
        "id": "mRc4bQ0SFJ_C"
      },
      "source": [
        "As you can see, those values are the exact same as we found earlier. You may have noticed that the formulas we found for $\\beta_0$ and $\\beta_1$ above contain some terms that look similar to variance and covariance calculations. Given that, we could also calculate these values in a more concise manner using **numpy's** functions for these descriptive statistics."
      ]
    },
    {
      "cell_type": "code",
      "execution_count": null,
      "metadata": {
        "id": "Q4Ms1lFsFJ_C"
      },
      "outputs": [],
      "source": [
        "cov = np.cov(df.parent_sleep, df.parent_grumpy, ddof=0) # calculate the covariance of x=df.parent_sleep and y=df.parent_grumpy\n",
        "var_x = np.var(df.parent_sleep, ddof=0) # calculate the variance of x=df.parent_sleep\n",
        "\n",
        "beta1_hat = cov[0,1] / var_x\n",
        "beta0_hat = df.parent_grumpy.mean() - beta1_hat * df.parent_sleep.mean()\n",
        "(beta0_hat, beta1_hat)"
      ]
    },
    {
      "cell_type": "markdown",
      "metadata": {
        "id": "Nunkwu8rFJ_C"
      },
      "source": [
        "Hopefully it is somewhat satisfying to see that regardless of the approach we used, we still come up with the same model fit (i.e. the model parameters have the same values). We won't look at them here, but there are even more ways to state these formulas, including with the correlation between $x$ and $y$.\n",
        "\n",
        "Next, let's assume that when the data was collected, the amount of sleep a parent had was recorded in minuts. The cell below creates this column, `parent_sleep_minutes`. Use this for the following question."
      ]
    },
    {
      "cell_type": "code",
      "execution_count": null,
      "metadata": {
        "id": "8pKg7I6IFJ_C"
      },
      "outputs": [],
      "source": [
        "df['parent_sleep_minutes'] = df['parent_sleep']*60\n",
        "df.parent_sleep_minutes.describe()"
      ]
    },
    {
      "cell_type": "markdown",
      "metadata": {
        "id": "mneI4lgNFJ_C"
      },
      "source": [
        " ***\n",
        "\n",
        " ### Q6: Fit a new linear regression model with **statsmodels** where `parent_sleep_minutes` is used to predict `parent_grumpy`. Does this affect the model parameter estimates? Are they the same? Or different?\n",
        "\n",
        " \\<modify the code in the cell below and modify it to fit the linear regression model and retrieve the model summary. Then input your here - be sure to state what the grumpiness value the model predicted\\>\n",
        "\n",
        " ***"
      ]
    },
    {
      "cell_type": "code",
      "execution_count": null,
      "metadata": {
        "id": "_353WKctFJ_C"
      },
      "outputs": [],
      "source": [
        "sm_lm_min = smf.ols(formula=' ~ ', data=df).fit()\n",
        "sm_lm_min.params"
      ]
    },
    {
      "cell_type": "markdown",
      "metadata": {
        "id": "VWPBzqM6FJ_D"
      },
      "source": [
        "***\n",
        "\n",
        "### Q7: Does having `parent_sleep` measured in different units affect how well the model fits the data? In other words, is the $R^2$ different from when `parent_sleep` was measured in hours? Also, are the p-values associated with $\\beta_0$, $\\beta_1$ different? What does this tell you about how linear regression models are affected by a variable being scaled?\n",
        "\n",
        "\\<insert a code cell below then use `sm_lm_min.summary()` to retrieve the model summary and then input your answer here\\>\n",
        "\n",
        "***"
      ]
    },
    {
      "cell_type": "markdown",
      "metadata": {
        "id": "YcMC6pxmFJ_D"
      },
      "source": [
        "### Multiple Linear Regression\n",
        "\n",
        "What we've looked at so far is commonly referred to as *Simple Linear Regression*, which is when there is one *predictor* (or *feature* or *independent variable*), $x$, and we are trying to predict the *outcome* or *response* or *dependent variable*, $y$. Linear Regression is a powerful and commonly used tool though, so you can imagine that it's not too difficult to add more predictors. Below is an example where we'll try fitting a *Multiple linear Regression* model, which is a linear regression model with more two or more *predictors* (or *features* or *independent variables*).\n",
        "\n",
        "The dataset is a (hypothetical) company's advertising spend and sales they have made for each day. There are four columns in the data:\n",
        "* `tv` - amount of money spent on television advertising last week\n",
        "* `radio` - amount of money spent on radio advertising last week\n",
        "* `newspaper` - amount of money spent on newpaper advertising last week\n",
        "* `sales` - number of widgets (in thousands) the company sold last week"
      ]
    },
    {
      "cell_type": "code",
      "execution_count": null,
      "metadata": {
        "id": "OxwdcDnHFJ_D"
      },
      "outputs": [],
      "source": [
        "df_adv = pd.read_csv('https://raw.githubusercontent.com/sgeinitz/CS3120/main/lab1_data_advertising.csv')\n",
        "df_adv.head()"
      ]
    },
    {
      "cell_type": "markdown",
      "metadata": {
        "id": "lgmRVMVLFJ_D"
      },
      "source": [
        "Let's also get a quick idea of what the data looks like in terms of min, max, mean, etc."
      ]
    },
    {
      "cell_type": "code",
      "execution_count": null,
      "metadata": {
        "id": "PhsOev8_FJ_D"
      },
      "outputs": [],
      "source": [
        "df_adv.describe()"
      ]
    },
    {
      "cell_type": "markdown",
      "metadata": {
        "id": "jCHHUdm4FJ_D"
      },
      "source": [
        "***\n",
        "\n",
        " ### Q8: As we said, any data analysis or modeling task first requires looking at or visualizing the data. Plot the each of the independent variables (`tv`, `radio`, `newspaper`) against the dependent variable, `sales`. Then state which of them you think looks like it going to best predict `sales`.\n",
        "\n",
        "\\<modify the code cell below (the first is done for you) and then input your answer here\\>\n",
        "\n",
        "***\n",
        "\n",
        "If you can, try to put all of the plots together in a single figure."
      ]
    },
    {
      "cell_type": "code",
      "execution_count": null,
      "metadata": {
        "id": "jJyRcTW9FJ_D"
      },
      "outputs": [],
      "source": [
        "# plot all three of the features against sales\n",
        "fig, (ax1, ax2, ax3) = plt.subplots(1, 3, figsize=(15, 5))\n",
        "sns.scatterplot(data=df_adv, x='tv', y='sales', ax=ax1)\n",
        "sns.scatterplot(data=df_adv, x='radio', y='sales', ax=ax2)\n",
        "sns.scatterplot(data=df_adv, x='newspaper', y='sales', ax=ax3)\n",
        "plt.show()\n"
      ]
    },
    {
      "cell_type": "markdown",
      "metadata": {
        "id": "ND9iiBmhFJ_D"
      },
      "source": [
        "Next, let's fit a linear regression model using all three variables."
      ]
    },
    {
      "cell_type": "code",
      "execution_count": null,
      "metadata": {
        "id": "FtHeXxLlFJ_D"
      },
      "outputs": [],
      "source": [
        "lm_adv = smf.ols(formula='sales ~ tv + radio + newspaper', data=df_adv).fit()\n",
        "lm_adv.summary()"
      ]
    },
    {
      "cell_type": "markdown",
      "metadata": {
        "id": "A8kxTwiWFJ_D"
      },
      "source": [
        "It looks like that model fits pretty well. But, based on the plots you saw above, it looks like there is not an exact linear relationship between `tv` and `sales`...\n",
        "\n",
        "***\n",
        "\n",
        "### Q9: Try fitting a model to this dataset with `radio` and `newspaper` included, but use the square root of `tv`. Then print the summary of the model to see the $R^2$. If you worked for this company, which model do you think you would use? The one above or this new one you created here? Explain why.\n",
        "\n",
        "\\<fix the code cell below to fit the model described above and then input your answer here>\n",
        "\n",
        "***\n",
        "\n",
        "Hints:\n",
        "* Use [this reference](https://www.statsmodels.org/dev/example_formulas.html#functions) to see how to include a function of an independent variable in your model\n",
        "* The function, `np.sqrt( )` is numpy's square root function"
      ]
    },
    {
      "cell_type": "code",
      "execution_count": null,
      "metadata": {
        "id": "q_inMZmSFJ_D"
      },
      "outputs": [],
      "source": [
        "lm_adv = smf.ols(formula='sales ~ ', data=df_adv).fit()\n",
        "lm_adv.summary()"
      ]
    },
    {
      "cell_type": "markdown",
      "metadata": {
        "id": "_kOMh7AGFJ_D"
      },
      "source": [
        "Nice work completing this notebook. If you didn't already appreciate the power of linear regression, hopefully this helped convince you in some way. Even though we will use lots of other types of models, you will almost always want to start with linear regression because of its simplicity, stability, and flexibility. We'll always want to use the *right model for the task at hand* though, so we probably don't want to be too much like either of the people below :)\n",
        "\n",
        "![Example Image](https://media.licdn.com/dms/image/v2/D4E22AQFLVt8372oIQA/feedshare-shrink_800/feedshare-shrink_800/0/1710511681665?e=1727308800&v=beta&t=XephAeg6t9otHgyXtIHxbYiAxJdKOkH0uP0pU9eP2oY)\n"
      ]
    }
  ],
  "metadata": {
    "kernelspec": {
      "display_name": "Python 3 (ipykernel)",
      "language": "python",
      "name": "python3"
    },
    "language_info": {
      "codemirror_mode": {
        "name": "ipython",
        "version": 3
      },
      "file_extension": ".py",
      "mimetype": "text/x-python",
      "name": "python",
      "nbconvert_exporter": "python",
      "pygments_lexer": "ipython3",
      "version": "3.12.4"
    },
    "toc": {
      "base_numbering": 1,
      "nav_menu": {},
      "number_sections": true,
      "sideBar": true,
      "skip_h1_title": false,
      "title_cell": "Table of Contents",
      "title_sidebar": "Contents",
      "toc_cell": false,
      "toc_position": {},
      "toc_section_display": true,
      "toc_window_display": false
    },
    "colab": {
      "provenance": []
    },
    "widgets": {
      "application/vnd.jupyter.widget-state+json": {
        "093679554b7a46c1a3af23442eb61c4b": {
          "model_module": "@jupyter-widgets/controls",
          "model_name": "VBoxModel",
          "model_module_version": "1.5.0",
          "state": {
            "_dom_classes": [
              "widget-interact"
            ],
            "_model_module": "@jupyter-widgets/controls",
            "_model_module_version": "1.5.0",
            "_model_name": "VBoxModel",
            "_view_count": null,
            "_view_module": "@jupyter-widgets/controls",
            "_view_module_version": "1.5.0",
            "_view_name": "VBoxView",
            "box_style": "",
            "children": [
              "IPY_MODEL_e6906cb14fa74f91849f2480fadd07e9",
              "IPY_MODEL_e30a59cfb58d41129d77da518ceff683",
              "IPY_MODEL_802e40de7c8a4baba88c80db36173c07"
            ],
            "layout": "IPY_MODEL_758ba20cf982423b9b39c776b6728d5e"
          }
        },
        "e6906cb14fa74f91849f2480fadd07e9": {
          "model_module": "@jupyter-widgets/controls",
          "model_name": "IntSliderModel",
          "model_module_version": "1.5.0",
          "state": {
            "_dom_classes": [],
            "_model_module": "@jupyter-widgets/controls",
            "_model_module_version": "1.5.0",
            "_model_name": "IntSliderModel",
            "_view_count": null,
            "_view_module": "@jupyter-widgets/controls",
            "_view_module_version": "1.5.0",
            "_view_name": "IntSliderView",
            "continuous_update": true,
            "description": "slope",
            "description_tooltip": null,
            "disabled": false,
            "layout": "IPY_MODEL_44221d20da644f91b62facab8f323e30",
            "max": 20,
            "min": -20,
            "orientation": "horizontal",
            "readout": true,
            "readout_format": "d",
            "step": 1,
            "style": "IPY_MODEL_37be01554d2949d1a565dc6cec05faec",
            "value": -11
          }
        },
        "e30a59cfb58d41129d77da518ceff683": {
          "model_module": "@jupyter-widgets/controls",
          "model_name": "IntSliderModel",
          "model_module_version": "1.5.0",
          "state": {
            "_dom_classes": [],
            "_model_module": "@jupyter-widgets/controls",
            "_model_module_version": "1.5.0",
            "_model_name": "IntSliderModel",
            "_view_count": null,
            "_view_module": "@jupyter-widgets/controls",
            "_view_module_version": "1.5.0",
            "_view_name": "IntSliderView",
            "continuous_update": true,
            "description": "intercept",
            "description_tooltip": null,
            "disabled": false,
            "layout": "IPY_MODEL_2c36d69f87fd4f508e47474d6eba9bcb",
            "max": 200,
            "min": 0,
            "orientation": "horizontal",
            "readout": true,
            "readout_format": "d",
            "step": 1,
            "style": "IPY_MODEL_176752ac647f433a9155feb62939ddcd",
            "value": 139
          }
        },
        "802e40de7c8a4baba88c80db36173c07": {
          "model_module": "@jupyter-widgets/output",
          "model_name": "OutputModel",
          "model_module_version": "1.0.0",
          "state": {
            "_dom_classes": [],
            "_model_module": "@jupyter-widgets/output",
            "_model_module_version": "1.0.0",
            "_model_name": "OutputModel",
            "_view_count": null,
            "_view_module": "@jupyter-widgets/output",
            "_view_module_version": "1.0.0",
            "_view_name": "OutputView",
            "layout": "IPY_MODEL_95637e647051477abe19001a33142bd1",
            "msg_id": "",
            "outputs": [
              {
                "output_type": "display_data",
                "data": {
                  "text/plain": "<Figure size 900x600 with 1 Axes>",
                  "image/png": "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\n"
                },
                "metadata": {}
              }
            ]
          }
        },
        "758ba20cf982423b9b39c776b6728d5e": {
          "model_module": "@jupyter-widgets/base",
          "model_name": "LayoutModel",
          "model_module_version": "1.2.0",
          "state": {
            "_model_module": "@jupyter-widgets/base",
            "_model_module_version": "1.2.0",
            "_model_name": "LayoutModel",
            "_view_count": null,
            "_view_module": "@jupyter-widgets/base",
            "_view_module_version": "1.2.0",
            "_view_name": "LayoutView",
            "align_content": null,
            "align_items": null,
            "align_self": null,
            "border": null,
            "bottom": null,
            "display": null,
            "flex": null,
            "flex_flow": null,
            "grid_area": null,
            "grid_auto_columns": null,
            "grid_auto_flow": null,
            "grid_auto_rows": null,
            "grid_column": null,
            "grid_gap": null,
            "grid_row": null,
            "grid_template_areas": null,
            "grid_template_columns": null,
            "grid_template_rows": null,
            "height": null,
            "justify_content": null,
            "justify_items": null,
            "left": null,
            "margin": null,
            "max_height": null,
            "max_width": null,
            "min_height": null,
            "min_width": null,
            "object_fit": null,
            "object_position": null,
            "order": null,
            "overflow": null,
            "overflow_x": null,
            "overflow_y": null,
            "padding": null,
            "right": null,
            "top": null,
            "visibility": null,
            "width": null
          }
        },
        "44221d20da644f91b62facab8f323e30": {
          "model_module": "@jupyter-widgets/base",
          "model_name": "LayoutModel",
          "model_module_version": "1.2.0",
          "state": {
            "_model_module": "@jupyter-widgets/base",
            "_model_module_version": "1.2.0",
            "_model_name": "LayoutModel",
            "_view_count": null,
            "_view_module": "@jupyter-widgets/base",
            "_view_module_version": "1.2.0",
            "_view_name": "LayoutView",
            "align_content": null,
            "align_items": null,
            "align_self": null,
            "border": null,
            "bottom": null,
            "display": null,
            "flex": null,
            "flex_flow": null,
            "grid_area": null,
            "grid_auto_columns": null,
            "grid_auto_flow": null,
            "grid_auto_rows": null,
            "grid_column": null,
            "grid_gap": null,
            "grid_row": null,
            "grid_template_areas": null,
            "grid_template_columns": null,
            "grid_template_rows": null,
            "height": null,
            "justify_content": null,
            "justify_items": null,
            "left": null,
            "margin": null,
            "max_height": null,
            "max_width": null,
            "min_height": null,
            "min_width": null,
            "object_fit": null,
            "object_position": null,
            "order": null,
            "overflow": null,
            "overflow_x": null,
            "overflow_y": null,
            "padding": null,
            "right": null,
            "top": null,
            "visibility": null,
            "width": null
          }
        },
        "37be01554d2949d1a565dc6cec05faec": {
          "model_module": "@jupyter-widgets/controls",
          "model_name": "SliderStyleModel",
          "model_module_version": "1.5.0",
          "state": {
            "_model_module": "@jupyter-widgets/controls",
            "_model_module_version": "1.5.0",
            "_model_name": "SliderStyleModel",
            "_view_count": null,
            "_view_module": "@jupyter-widgets/base",
            "_view_module_version": "1.2.0",
            "_view_name": "StyleView",
            "description_width": "",
            "handle_color": null
          }
        },
        "2c36d69f87fd4f508e47474d6eba9bcb": {
          "model_module": "@jupyter-widgets/base",
          "model_name": "LayoutModel",
          "model_module_version": "1.2.0",
          "state": {
            "_model_module": "@jupyter-widgets/base",
            "_model_module_version": "1.2.0",
            "_model_name": "LayoutModel",
            "_view_count": null,
            "_view_module": "@jupyter-widgets/base",
            "_view_module_version": "1.2.0",
            "_view_name": "LayoutView",
            "align_content": null,
            "align_items": null,
            "align_self": null,
            "border": null,
            "bottom": null,
            "display": null,
            "flex": null,
            "flex_flow": null,
            "grid_area": null,
            "grid_auto_columns": null,
            "grid_auto_flow": null,
            "grid_auto_rows": null,
            "grid_column": null,
            "grid_gap": null,
            "grid_row": null,
            "grid_template_areas": null,
            "grid_template_columns": null,
            "grid_template_rows": null,
            "height": null,
            "justify_content": null,
            "justify_items": null,
            "left": null,
            "margin": null,
            "max_height": null,
            "max_width": null,
            "min_height": null,
            "min_width": null,
            "object_fit": null,
            "object_position": null,
            "order": null,
            "overflow": null,
            "overflow_x": null,
            "overflow_y": null,
            "padding": null,
            "right": null,
            "top": null,
            "visibility": null,
            "width": null
          }
        },
        "176752ac647f433a9155feb62939ddcd": {
          "model_module": "@jupyter-widgets/controls",
          "model_name": "SliderStyleModel",
          "model_module_version": "1.5.0",
          "state": {
            "_model_module": "@jupyter-widgets/controls",
            "_model_module_version": "1.5.0",
            "_model_name": "SliderStyleModel",
            "_view_count": null,
            "_view_module": "@jupyter-widgets/base",
            "_view_module_version": "1.2.0",
            "_view_name": "StyleView",
            "description_width": "",
            "handle_color": null
          }
        },
        "95637e647051477abe19001a33142bd1": {
          "model_module": "@jupyter-widgets/base",
          "model_name": "LayoutModel",
          "model_module_version": "1.2.0",
          "state": {
            "_model_module": "@jupyter-widgets/base",
            "_model_module_version": "1.2.0",
            "_model_name": "LayoutModel",
            "_view_count": null,
            "_view_module": "@jupyter-widgets/base",
            "_view_module_version": "1.2.0",
            "_view_name": "LayoutView",
            "align_content": null,
            "align_items": null,
            "align_self": null,
            "border": null,
            "bottom": null,
            "display": null,
            "flex": null,
            "flex_flow": null,
            "grid_area": null,
            "grid_auto_columns": null,
            "grid_auto_flow": null,
            "grid_auto_rows": null,
            "grid_column": null,
            "grid_gap": null,
            "grid_row": null,
            "grid_template_areas": null,
            "grid_template_columns": null,
            "grid_template_rows": null,
            "height": null,
            "justify_content": null,
            "justify_items": null,
            "left": null,
            "margin": null,
            "max_height": null,
            "max_width": null,
            "min_height": null,
            "min_width": null,
            "object_fit": null,
            "object_position": null,
            "order": null,
            "overflow": null,
            "overflow_x": null,
            "overflow_y": null,
            "padding": null,
            "right": null,
            "top": null,
            "visibility": null,
            "width": null
          }
        },
        "64b9672727d7415d8c596c1e591a6d97": {
          "model_module": "@jupyter-widgets/controls",
          "model_name": "VBoxModel",
          "model_module_version": "1.5.0",
          "state": {
            "_dom_classes": [
              "widget-interact"
            ],
            "_model_module": "@jupyter-widgets/controls",
            "_model_module_version": "1.5.0",
            "_model_name": "VBoxModel",
            "_view_count": null,
            "_view_module": "@jupyter-widgets/controls",
            "_view_module_version": "1.5.0",
            "_view_name": "VBoxView",
            "box_style": "",
            "children": [
              "IPY_MODEL_d481bdf7eabf4518a0bb87502ba6fdcb",
              "IPY_MODEL_55222e0902b94441a67b2a44d9e2ede9",
              "IPY_MODEL_b64ac6f719c54cf18c801221c6476224"
            ],
            "layout": "IPY_MODEL_7de6994a6b504718abc9c1950a6692fe"
          }
        },
        "d481bdf7eabf4518a0bb87502ba6fdcb": {
          "model_module": "@jupyter-widgets/controls",
          "model_name": "IntSliderModel",
          "model_module_version": "1.5.0",
          "state": {
            "_dom_classes": [],
            "_model_module": "@jupyter-widgets/controls",
            "_model_module_version": "1.5.0",
            "_model_name": "IntSliderModel",
            "_view_count": null,
            "_view_module": "@jupyter-widgets/controls",
            "_view_module_version": "1.5.0",
            "_view_name": "IntSliderView",
            "continuous_update": true,
            "description": "slope",
            "description_tooltip": null,
            "disabled": false,
            "layout": "IPY_MODEL_c1f61e6a157847c1b8e7c9bc94eba4f5",
            "max": 20,
            "min": -20,
            "orientation": "horizontal",
            "readout": true,
            "readout_format": "d",
            "step": 1,
            "style": "IPY_MODEL_bbd541a4cb0244838d8332fb283e92a5",
            "value": -10
          }
        },
        "55222e0902b94441a67b2a44d9e2ede9": {
          "model_module": "@jupyter-widgets/controls",
          "model_name": "IntSliderModel",
          "model_module_version": "1.5.0",
          "state": {
            "_dom_classes": [],
            "_model_module": "@jupyter-widgets/controls",
            "_model_module_version": "1.5.0",
            "_model_name": "IntSliderModel",
            "_view_count": null,
            "_view_module": "@jupyter-widgets/controls",
            "_view_module_version": "1.5.0",
            "_view_name": "IntSliderView",
            "continuous_update": true,
            "description": "intercept",
            "description_tooltip": null,
            "disabled": false,
            "layout": "IPY_MODEL_ba36fac52aa24ac3b501a2d451870619",
            "max": 200,
            "min": 0,
            "orientation": "horizontal",
            "readout": true,
            "readout_format": "d",
            "step": 1,
            "style": "IPY_MODEL_644dd4a56e744cba9b23ec25ea0a069b",
            "value": 133
          }
        },
        "b64ac6f719c54cf18c801221c6476224": {
          "model_module": "@jupyter-widgets/output",
          "model_name": "OutputModel",
          "model_module_version": "1.0.0",
          "state": {
            "_dom_classes": [],
            "_model_module": "@jupyter-widgets/output",
            "_model_module_version": "1.0.0",
            "_model_name": "OutputModel",
            "_view_count": null,
            "_view_module": "@jupyter-widgets/output",
            "_view_module_version": "1.0.0",
            "_view_name": "OutputView",
            "layout": "IPY_MODEL_d052239459404ae5b372a05e98d77ae6",
            "msg_id": "",
            "outputs": [
              {
                "output_type": "display_data",
                "data": {
                  "text/plain": "<Figure size 900x600 with 1 Axes>",
                  "image/png": "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\n"
                },
                "metadata": {}
              }
            ]
          }
        },
        "7de6994a6b504718abc9c1950a6692fe": {
          "model_module": "@jupyter-widgets/base",
          "model_name": "LayoutModel",
          "model_module_version": "1.2.0",
          "state": {
            "_model_module": "@jupyter-widgets/base",
            "_model_module_version": "1.2.0",
            "_model_name": "LayoutModel",
            "_view_count": null,
            "_view_module": "@jupyter-widgets/base",
            "_view_module_version": "1.2.0",
            "_view_name": "LayoutView",
            "align_content": null,
            "align_items": null,
            "align_self": null,
            "border": null,
            "bottom": null,
            "display": null,
            "flex": null,
            "flex_flow": null,
            "grid_area": null,
            "grid_auto_columns": null,
            "grid_auto_flow": null,
            "grid_auto_rows": null,
            "grid_column": null,
            "grid_gap": null,
            "grid_row": null,
            "grid_template_areas": null,
            "grid_template_columns": null,
            "grid_template_rows": null,
            "height": null,
            "justify_content": null,
            "justify_items": null,
            "left": null,
            "margin": null,
            "max_height": null,
            "max_width": null,
            "min_height": null,
            "min_width": null,
            "object_fit": null,
            "object_position": null,
            "order": null,
            "overflow": null,
            "overflow_x": null,
            "overflow_y": null,
            "padding": null,
            "right": null,
            "top": null,
            "visibility": null,
            "width": null
          }
        },
        "c1f61e6a157847c1b8e7c9bc94eba4f5": {
          "model_module": "@jupyter-widgets/base",
          "model_name": "LayoutModel",
          "model_module_version": "1.2.0",
          "state": {
            "_model_module": "@jupyter-widgets/base",
            "_model_module_version": "1.2.0",
            "_model_name": "LayoutModel",
            "_view_count": null,
            "_view_module": "@jupyter-widgets/base",
            "_view_module_version": "1.2.0",
            "_view_name": "LayoutView",
            "align_content": null,
            "align_items": null,
            "align_self": null,
            "border": null,
            "bottom": null,
            "display": null,
            "flex": null,
            "flex_flow": null,
            "grid_area": null,
            "grid_auto_columns": null,
            "grid_auto_flow": null,
            "grid_auto_rows": null,
            "grid_column": null,
            "grid_gap": null,
            "grid_row": null,
            "grid_template_areas": null,
            "grid_template_columns": null,
            "grid_template_rows": null,
            "height": null,
            "justify_content": null,
            "justify_items": null,
            "left": null,
            "margin": null,
            "max_height": null,
            "max_width": null,
            "min_height": null,
            "min_width": null,
            "object_fit": null,
            "object_position": null,
            "order": null,
            "overflow": null,
            "overflow_x": null,
            "overflow_y": null,
            "padding": null,
            "right": null,
            "top": null,
            "visibility": null,
            "width": null
          }
        },
        "bbd541a4cb0244838d8332fb283e92a5": {
          "model_module": "@jupyter-widgets/controls",
          "model_name": "SliderStyleModel",
          "model_module_version": "1.5.0",
          "state": {
            "_model_module": "@jupyter-widgets/controls",
            "_model_module_version": "1.5.0",
            "_model_name": "SliderStyleModel",
            "_view_count": null,
            "_view_module": "@jupyter-widgets/base",
            "_view_module_version": "1.2.0",
            "_view_name": "StyleView",
            "description_width": "",
            "handle_color": null
          }
        },
        "ba36fac52aa24ac3b501a2d451870619": {
          "model_module": "@jupyter-widgets/base",
          "model_name": "LayoutModel",
          "model_module_version": "1.2.0",
          "state": {
            "_model_module": "@jupyter-widgets/base",
            "_model_module_version": "1.2.0",
            "_model_name": "LayoutModel",
            "_view_count": null,
            "_view_module": "@jupyter-widgets/base",
            "_view_module_version": "1.2.0",
            "_view_name": "LayoutView",
            "align_content": null,
            "align_items": null,
            "align_self": null,
            "border": null,
            "bottom": null,
            "display": null,
            "flex": null,
            "flex_flow": null,
            "grid_area": null,
            "grid_auto_columns": null,
            "grid_auto_flow": null,
            "grid_auto_rows": null,
            "grid_column": null,
            "grid_gap": null,
            "grid_row": null,
            "grid_template_areas": null,
            "grid_template_columns": null,
            "grid_template_rows": null,
            "height": null,
            "justify_content": null,
            "justify_items": null,
            "left": null,
            "margin": null,
            "max_height": null,
            "max_width": null,
            "min_height": null,
            "min_width": null,
            "object_fit": null,
            "object_position": null,
            "order": null,
            "overflow": null,
            "overflow_x": null,
            "overflow_y": null,
            "padding": null,
            "right": null,
            "top": null,
            "visibility": null,
            "width": null
          }
        },
        "644dd4a56e744cba9b23ec25ea0a069b": {
          "model_module": "@jupyter-widgets/controls",
          "model_name": "SliderStyleModel",
          "model_module_version": "1.5.0",
          "state": {
            "_model_module": "@jupyter-widgets/controls",
            "_model_module_version": "1.5.0",
            "_model_name": "SliderStyleModel",
            "_view_count": null,
            "_view_module": "@jupyter-widgets/base",
            "_view_module_version": "1.2.0",
            "_view_name": "StyleView",
            "description_width": "",
            "handle_color": null
          }
        },
        "d052239459404ae5b372a05e98d77ae6": {
          "model_module": "@jupyter-widgets/base",
          "model_name": "LayoutModel",
          "model_module_version": "1.2.0",
          "state": {
            "_model_module": "@jupyter-widgets/base",
            "_model_module_version": "1.2.0",
            "_model_name": "LayoutModel",
            "_view_count": null,
            "_view_module": "@jupyter-widgets/base",
            "_view_module_version": "1.2.0",
            "_view_name": "LayoutView",
            "align_content": null,
            "align_items": null,
            "align_self": null,
            "border": null,
            "bottom": null,
            "display": null,
            "flex": null,
            "flex_flow": null,
            "grid_area": null,
            "grid_auto_columns": null,
            "grid_auto_flow": null,
            "grid_auto_rows": null,
            "grid_column": null,
            "grid_gap": null,
            "grid_row": null,
            "grid_template_areas": null,
            "grid_template_columns": null,
            "grid_template_rows": null,
            "height": null,
            "justify_content": null,
            "justify_items": null,
            "left": null,
            "margin": null,
            "max_height": null,
            "max_width": null,
            "min_height": null,
            "min_width": null,
            "object_fit": null,
            "object_position": null,
            "order": null,
            "overflow": null,
            "overflow_x": null,
            "overflow_y": null,
            "padding": null,
            "right": null,
            "top": null,
            "visibility": null,
            "width": null
          }
        }
      }
    }
  },
  "nbformat": 4,
  "nbformat_minor": 0
}